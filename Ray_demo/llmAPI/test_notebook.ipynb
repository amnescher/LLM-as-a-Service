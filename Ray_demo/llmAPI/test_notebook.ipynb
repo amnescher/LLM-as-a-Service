{
 "cells": [
  {
   "cell_type": "code",
   "execution_count": 3,
   "metadata": {},
   "outputs": [],
   "source": [
    "import binascii\n",
    "from typing import Any, List\n",
    "\n",
    "import pypdf\n",
    "import ray\n",
    "from langchain.chains.conversation.memory import ConversationBufferMemory\n",
    "import pandas as pd\n",
    "from ray import serve\n",
    "import os\n",
    "from langchain.embeddings import HuggingFaceInstructEmbeddings\n",
    "from starlette.requests import Request\n",
    "from starlette.responses import JSONResponse, Response\n",
    "from langchain.vectorstores import Chroma\n",
    "from langchain.document_loaders import YoutubeLoader\n",
    "from langchain.text_splitter import RecursiveCharacterTextSplitter\n",
    "import json\n",
    "from langchain.document_loaders import PyPDFLoader, WebBaseLoader\n",
    "import io\n",
    "from ray.data.datasource import FileExtensionFilter\n",
    "import weaviate\n",
    "from langchain.vectorstores import Weaviate\n",
    "from langchain.text_splitter import CharacterTextSplitter\n",
    "import yaml\n",
    "import time\n",
    "from langchain.document_loaders import TextLoader\n",
    "\n"
   ]
  },
  {
   "cell_type": "code",
   "execution_count": 4,
   "metadata": {},
   "outputs": [],
   "source": [
    "weaviate_client = weaviate.Client(\n",
    "            url=\"http://localhost:8080\",   \n",
    "        )"
   ]
  }
 ],
 "metadata": {
  "kernelspec": {
   "display_name": "dev",
   "language": "python",
   "name": "python3"
  },
  "language_info": {
   "codemirror_mode": {
    "name": "ipython",
    "version": 3
   },
   "file_extension": ".py",
   "mimetype": "text/x-python",
   "name": "python",
   "nbconvert_exporter": "python",
   "pygments_lexer": "ipython3",
   "version": "3.10.7"
  }
 },
 "nbformat": 4,
 "nbformat_minor": 2
}
