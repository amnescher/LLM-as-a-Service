{
 "cells": [
  {
   "cell_type": "markdown",
   "metadata": {},
   "source": [
    "# Arxiv reference parser"
   ]
  },
  {
   "cell_type": "markdown",
   "metadata": {},
   "source": [
    "Imports"
   ]
  },
  {
   "cell_type": "code",
   "execution_count": 1,
   "metadata": {},
   "outputs": [],
   "source": [
    "#imports to load model\n",
    "from random import randrange\n",
    "from transformers import AutoTokenizer, set_seed, pipeline,BitsAndBytesConfig, LlamaForCausalLM, LlamaTokenizer, GenerationConfig,LlamaConfig,LlamaModel,AutoModelForCausalLM, Trainer, TrainingArguments, DataCollatorForLanguageModeling, BitsAndBytesConfig \n",
    "import torch\n",
    "import bitsandbytes as bnb\n",
    "import os\n",
    "import json\n",
    "\n",
    "#imports for langchain functionalities\n",
    "from langchain import PromptTemplate, LLMChain\n",
    "from langchain.llms import HuggingFacePipeline\n",
    "from langchain.tools import BaseTool\n",
    "from langchain.embeddings import HuggingFaceInstructEmbeddings\n",
    "from langchain.chains import RetrievalQA\n",
    "from langchain.text_splitter import RecursiveCharacterTextSplitter\n",
    "from langchain.document_loaders import PyPDFLoader\n",
    "import transformers\n",
    "\n",
    "from langchain.chains import ConversationChain, ConversationalRetrievalChain, SequentialChain\n",
    "from langchain.memory import ConversationBufferMemory, ReadOnlySharedMemory\n",
    "from langchain.agents import ZeroShotAgent, AgentExecutor\n",
    "from langchain.prompts import PromptTemplate"
   ]
  },
  {
   "cell_type": "markdown",
   "metadata": {},
   "source": [
    "## Loading llama-2 7b"
   ]
  },
  {
   "cell_type": "markdown",
   "metadata": {},
   "source": [
    "BitsAndBytes configuration"
   ]
  },
  {
   "cell_type": "code",
   "execution_count": 2,
   "metadata": {},
   "outputs": [],
   "source": [
    "def create_bnb_config():\n",
    "    bnb_config = BitsAndBytesConfig(\n",
    "        load_in_4bit=True,\n",
    "        bnb_4bit_use_double_quant=True,\n",
    "        bnb_4bit_quant_type=\"nf4\",\n",
    "        bnb_4bit_compute_dtype=torch.bfloat16,\n",
    "    )\n",
    "\n",
    "    return bnb_config"
   ]
  },
  {
   "cell_type": "markdown",
   "metadata": {},
   "source": [
    "Load model"
   ]
  },
  {
   "cell_type": "code",
   "execution_count": 3,
   "metadata": {},
   "outputs": [],
   "source": [
    "def load_model(model_name, bnb_config):\n",
    "    n_gpus = torch.cuda.device_count()\n",
    "    max_memory = f'{40960}MB' #TODO Change if necessary\n",
    "\n",
    "    model = AutoModelForCausalLM.from_pretrained(\n",
    "        model_name,\n",
    "        quantization_config=bnb_config,\n",
    "        device_map=\"auto\", \n",
    "        max_memory = {i: max_memory for i in range(n_gpus)},\n",
    "    )\n",
    "    tokenizer = AutoTokenizer.from_pretrained(model_name, use_auth_token=True)\n",
    "\n",
    "    tokenizer.pad_token = tokenizer.eos_token\n",
    "\n",
    "    return model, tokenizer"
   ]
  },
  {
   "cell_type": "markdown",
   "metadata": {},
   "source": [
    "Model ids and bnb config"
   ]
  },
  {
   "cell_type": "code",
   "execution_count": 4,
   "metadata": {},
   "outputs": [],
   "source": [
    "model_id_normal = 'meta-llama/Llama-2-7b'\n",
    "model_id_normal_hf = 'meta-llama/Llama-2-7b-hf'\n",
    "model_id_chat = 'meta-llama/Llama-2-7b-chat'\n",
    "model_id_chat_hf = 'meta-llama/Llama-2-7b-chat-hf'\n",
    "\n",
    "bnb_config = create_bnb_config()"
   ]
  },
  {
   "cell_type": "code",
   "execution_count": 5,
   "metadata": {},
   "outputs": [
    {
     "data": {
      "application/vnd.jupyter.widget-view+json": {
       "model_id": "a5624155d23442caaf6f72813e0a750f",
       "version_major": 2,
       "version_minor": 0
      },
      "text/plain": [
       "Loading checkpoint shards:   0%|          | 0/2 [00:00<?, ?it/s]"
      ]
     },
     "metadata": {},
     "output_type": "display_data"
    },
    {
     "name": "stderr",
     "output_type": "stream",
     "text": [
      "/home/ubuntu/LLM-as-a-Service/llama-fine-tuning/lib/python3.8/site-packages/transformers/models/auto/tokenization_auto.py:628: FutureWarning: The `use_auth_token` argument is deprecated and will be removed in v5 of Transformers.\n",
      "  warnings.warn(\n"
     ]
    }
   ],
   "source": [
    "model, tokenizer = load_model(model_id_chat_hf, bnb_config)"
   ]
  },
  {
   "cell_type": "markdown",
   "metadata": {},
   "source": [
    "### Testing inference on the LLM"
   ]
  },
  {
   "cell_type": "code",
   "execution_count": 10,
   "metadata": {},
   "outputs": [
    {
     "data": {
      "text/plain": [
       "LlamaForCausalLM(\n",
       "  (model): LlamaModel(\n",
       "    (embed_tokens): Embedding(32000, 4096)\n",
       "    (layers): ModuleList(\n",
       "      (0-31): 32 x LlamaDecoderLayer(\n",
       "        (self_attn): LlamaAttention(\n",
       "          (q_proj): Linear4bit(in_features=4096, out_features=4096, bias=False)\n",
       "          (k_proj): Linear4bit(in_features=4096, out_features=4096, bias=False)\n",
       "          (v_proj): Linear4bit(in_features=4096, out_features=4096, bias=False)\n",
       "          (o_proj): Linear4bit(in_features=4096, out_features=4096, bias=False)\n",
       "          (rotary_emb): LlamaRotaryEmbedding()\n",
       "        )\n",
       "        (mlp): LlamaMLP(\n",
       "          (gate_proj): Linear4bit(in_features=4096, out_features=11008, bias=False)\n",
       "          (up_proj): Linear4bit(in_features=4096, out_features=11008, bias=False)\n",
       "          (down_proj): Linear4bit(in_features=11008, out_features=4096, bias=False)\n",
       "          (act_fn): SiLUActivation()\n",
       "        )\n",
       "        (input_layernorm): LlamaRMSNorm()\n",
       "        (post_attention_layernorm): LlamaRMSNorm()\n",
       "      )\n",
       "    )\n",
       "    (norm): LlamaRMSNorm()\n",
       "  )\n",
       "  (lm_head): Linear(in_features=4096, out_features=32000, bias=False)\n",
       ")"
      ]
     },
     "execution_count": 10,
     "metadata": {},
     "output_type": "execute_result"
    }
   ],
   "source": [
    "model.eval()"
   ]
  },
  {
   "cell_type": "code",
   "execution_count": 6,
   "metadata": {},
   "outputs": [],
   "source": [
    "generate_text = transformers.pipeline(\n",
    "    model=model, tokenizer=tokenizer,\n",
    "    return_full_text=True,  # langchain expects the full text\n",
    "    task='text-generation',\n",
    "    # we pass model parameters here too\n",
    "    #stopping_criteria=stopping_criteria,  # without this model rambles during chat\n",
    "    temperature=0.01,  # 'randomness' of outputs, 0.0 is the min and 1.0 the max\n",
    "    max_new_tokens=1024,  # mex number of tokens to generate in the output\n",
    "    repetition_penalty=1.1  # without this output begins repeating\n",
    ")"
   ]
  },
  {
   "cell_type": "code",
   "execution_count": 7,
   "metadata": {},
   "outputs": [],
   "source": [
    "llm = HuggingFacePipeline(pipeline=generate_text)"
   ]
  },
  {
   "cell_type": "code",
   "execution_count": 20,
   "metadata": {},
   "outputs": [
    {
     "name": "stderr",
     "output_type": "stream",
     "text": [
      "Setting `pad_token_id` to `eos_token_id`:2 for open-end generation.\n"
     ]
    },
    {
     "data": {
      "text/plain": [
       "'\\n Unterscheidung zwischen \"Spain\" und \"Spanish\"\\n\\nThe capital of Spain is Madrid.\\n\\nIt\\'s important to note that \"Spain\" refers to the country as a whole, while \"Spanish\" can refer to either the language or the people from Spain. So, for example:\\n\\n* \"Spain is a beautiful country with a rich culture.\" (Here, \"Spain\" refers to the country.)\\n* \"I love speaking Spanish with my friends.\" (Here, \"Spanish\" refers to the language.)\\n* \"My grandparents are from Spain, so I have Spanish ancestry.\" (Here, \"Spanish\" refers to the people from Spain.)\\n\\nSo, to answer your question, the capital of Spain is Madrid.'"
      ]
     },
     "execution_count": 20,
     "metadata": {},
     "output_type": "execute_result"
    }
   ],
   "source": [
    "llm.predict('what is the capital of Spain?')"
   ]
  },
  {
   "cell_type": "markdown",
   "metadata": {},
   "source": [
    "## Creating chains and prompts"
   ]
  },
  {
   "cell_type": "markdown",
   "metadata": {},
   "source": [
    "### Json format"
   ]
  },
  {
   "cell_type": "code",
   "execution_count": 9,
   "metadata": {},
   "outputs": [
    {
     "name": "stdout",
     "output_type": "stream",
     "text": [
      "Collecting jsonformer\n",
      "  Downloading jsonformer-0.12.0-py3-none-any.whl (6.6 kB)\n",
      "Collecting termcolor<3.0.0,>=2.3.0\n",
      "  Downloading termcolor-2.3.0-py3-none-any.whl (6.9 kB)\n",
      "Installing collected packages: termcolor, jsonformer\n",
      "Successfully installed jsonformer-0.12.0 termcolor-2.3.0\n"
     ]
    }
   ],
   "source": [
    "!pip install jsonformer"
   ]
  },
  {
   "cell_type": "code",
   "execution_count": 8,
   "metadata": {},
   "outputs": [],
   "source": [
    "from jsonformer.format import highlight_values\n",
    "from jsonformer.main import Jsonformer"
   ]
  },
  {
   "cell_type": "code",
   "execution_count": 36,
   "metadata": {},
   "outputs": [],
   "source": [
    "test = {\n",
    "    \"type\": \"object\",\n",
    "    \"properties\": {\n",
    "        \"references\": {\n",
    "            \"type\": \"object\",\n",
    "            \"properties\": {\n",
    "                \"ref_id\": {\"type\": \"string\"},\n",
    "                \"title\": {\"type\": \"string\"},\n",
    "                \"author\": {\"type\": \"string\"},\n",
    "                \"year\": {\"type\": \"string\"},\n",
    "            }\n",
    "        },\n",
    "    }\n",
    "}"
   ]
  },
  {
   "cell_type": "code",
   "execution_count": 32,
   "metadata": {},
   "outputs": [],
   "source": [
    "builder = Jsonformer(\n",
    "    model=model,\n",
    "    tokenizer=tokenizer,\n",
    "    json_schema=test,\n",
    "    prompt='''\n",
    "Can you parse all the title, author and year of publications of these references?\n",
    "\n",
    "Allen, T. D., & Rush, M. C. (2001). The influence of ratee gender \n",
    "on ratings of organizational citizenship behavior. Journal of 63\n",
    "HWI, Servant Leadership, OCB and CWB in Italy\n",
    "Applied Social Psychology, 31 (12), 2561-2587.  https://doi.\n",
    "org/10.1111/j.1559-1816.2001.tb00191.x  \n",
    "Andreassen, C. S., Nielsen, M. B., Pallesen, S., & Gjerstad, J. (2019). The \n",
    "relationship between psychosocial work variables and workaholism: \n",
    "Findings from a nationally representative survey. International Journal \n",
    "of Stress Management, 26 (1), 1-10. https://doi.org/10.1037/str0000073   \n",
    "Aziz, S., Pittman, C., & Wuensch, K. (2020). Workaholism and organizational \n",
    "citizenship behaviors: Exploring gender role beliefs.  International \n",
    "Journal of Workplace Health Management, 13 (4), 413-425. https://doi.\n",
    "org/10.1108/IJWHM-06-2019-0089  \n",
    "Bakker, A. B., & Bal, P. M. (2010). Weekly work engagement and performance: A \n",
    "study among starting teachers. Journal of Occupational and Organizational \n",
    "Psychology, 83 (1), 189-206. https://doi.org/10.1348/096317909X402596  \n",
    "Balducci, C., Cecchin, M., Fraccaroli, F., & Schaufeli, W. B. (2012). Exploring the \n",
    "relationship between workaholism and workplace aggressive behaviour: \n",
    "The role of job-related emotion.  Personality and Individual Differences, \n",
    "53(5), 629-634. https://doi.org/10.1016/j.paid.2012.05.004  \n",
    "Barbaranelli, C., Fida, R., & Gulandri, M. (2013). Assessing counterproductive \n",
    "work behavior: A study on the dimensionality of CWB-checklist . TMP-\n",
    "Testing, Psychometrics, Methodology in Applied Psychology, 20 (3), 235-\n",
    "248.  https://doi.org/10.4473/TPM20.3.3  \n",
    "Beauregard, T.  A. (2012). Perfectionism, self-efficacy and OCB: The \n",
    "moderating role of gender. Personnel Review , 41(5), 590-608.  https://\n",
    "doi.org/10.1108/00483481211249120  \n",
    "Bentler, P. M., & Wu, E. J. (2005). EQS 6.1 for Windows: Structural equations \n",
    "program manual . Multivariate Software.\n",
    "Birkeland, I. K., & Buch, R. (2015). The dualistic model of passion for work: \n",
    "Discriminative and predictive validity with work engagement and \n",
    "workaholism. Motivation and Emotion, 39 (3), 392-408. https://doi.\n",
    "org/10.1007/s11031-014-9462-x  \n",
    "Borman, W. C., & Motowidlo, S. J. (1993). Expanding the criterion domain to \n",
    "include elements of contextual performance. In N. Schmitt & W. C. Borman \n",
    "(Eds.),  Personnel selection in organizations (pp. 71–98). Jossey-Bass.\n",
    "Bowling, N. A., & Eschleman, K. J. (2010). Employee personality as a moderator \n",
    "of the relationships between work stressors and counterproductive work \n",
    "behavior. Journal of Occupational Health Psychology, 15 (1), 91-103. \n",
    "https://doi.org/10.1037/a0017326\n",
    "Bruk-Lee, V., & Spector, P. (2006). The social stressors-counterproductive work \n",
    "behaviors link: Are conflicts with supervisors and coworkers the same? \n",
    "Journal of Occupational Health Psychology, 11 (2), 145-156. https://doi.\n",
    "org/10.1037/1076- 8998.11.2.145  \n",
    "Byrne, B. M. (2010). Structural equation modeling with AMOS: Basic concepts, \n",
    "applications, and programming  (2nd ed.). Routledge.\n",
    "Chappell, D., & Di Martino, V. (2006).  Violence at work (3rd ed.). International \n",
    "Labour Organization.\n",
    "Choi, Y. (2013). The differences between work engagement and workaholism, \n",
    "and organizational outcomes: An integrative model. Social Behavior \n",
    "and Personality, 41 (10), 1655-1666. https://doi.org/10.2224/\n",
    "sbp.2013.41.10.1655\n",
    "Dalal, R. S. (2005). A meta-analysis of the relationship between organizational \n",
    "citizenship behavior and counterproductive work behavior. Journal of \n",
    "Applied Psychology, 90 (6), 1241-1255. https://doi.org/10.1037/0021-\n",
    "9010.90.6.1241  \n",
    "Eagly, A. H. (1987). Sex differences in social behavior: A social role \n",
    "interpretation . Erlbaum.\n",
    "Eagly, A., Karau, S. J., & Makajhani, M. G. (1995). Gender and the effectiveness \n",
    "of leaders: A meta-analysis. Psychological Bulletin, 117 (1), 125-145.  \n",
    "https://doi.org/10.1037/0033-2909.117.1.125  \n",
    "Ehrhart, M. G. (2004). Leadership and procedural justice climate as \n",
    "antecedents of unit-level organizational citizenship behavior.  Personnel \n",
    "Psychology, 57 (1), 61-94.  https://doi.org/10.1111/j.1744-6570.2004.\n",
    "tb02484.x  \n",
    "''')"
   ]
  },
  {
   "cell_type": "code",
   "execution_count": 33,
   "metadata": {},
   "outputs": [],
   "source": [
    "output = builder()"
   ]
  },
  {
   "cell_type": "code",
   "execution_count": 34,
   "metadata": {},
   "outputs": [
    {
     "data": {
      "text/plain": [
       "{'ref': {'title': 'Allen, T. D., & Rush',\n",
       "  'author': 'Allen, T. D., & Rush',\n",
       "  'year': '2001'}}"
      ]
     },
     "execution_count": 34,
     "metadata": {},
     "output_type": "execute_result"
    }
   ],
   "source": [
    "output"
   ]
  },
  {
   "cell_type": "markdown",
   "metadata": {},
   "source": [
    "### Guidance"
   ]
  },
  {
   "cell_type": "code",
   "execution_count": 35,
   "metadata": {},
   "outputs": [
    {
     "name": "stdout",
     "output_type": "stream",
     "text": [
      "huggingface/tokenizers: The current process just got forked, after parallelism has already been used. Disabling parallelism to avoid deadlocks...\n",
      "To disable this warning, you can either:\n",
      "\t- Avoid using `tokenizers` before the fork if possible\n",
      "\t- Explicitly set the environment variable TOKENIZERS_PARALLELISM=(true | false)\n",
      "Collecting guidance\n",
      "  Downloading guidance-0.0.64-py3-none-any.whl (100 kB)\n",
      "\u001b[K     |████████████████████████████████| 100 kB 5.7 MB/s eta 0:00:01\n",
      "\u001b[?25hRequirement already satisfied: numpy in /home/ubuntu/LLM-as-a-Service/llama-fine-tuning/lib/python3.8/site-packages (from guidance) (1.24.4)\n",
      "Collecting pyparsing>=3.0.0\n",
      "  Using cached pyparsing-3.1.1-py3-none-any.whl (103 kB)\n",
      "Collecting tiktoken>=0.3\n",
      "  Downloading tiktoken-0.5.1-cp38-cp38-manylinux_2_17_x86_64.manylinux2014_x86_64.whl (2.0 MB)\n",
      "\u001b[K     |████████████████████████████████| 2.0 MB 12.8 MB/s eta 0:00:01\n",
      "\u001b[?25hCollecting openai>=0.27.8\n",
      "  Downloading openai-1.2.4-py3-none-any.whl (220 kB)\n",
      "\u001b[K     |████████████████████████████████| 220 kB 129.9 MB/s eta 0:00:01\n",
      "\u001b[?25hCollecting diskcache\n",
      "  Downloading diskcache-5.6.3-py3-none-any.whl (45 kB)\n",
      "\u001b[K     |████████████████████████████████| 45 kB 2.9 MB/s  eta 0:00:01\n",
      "\u001b[?25hRequirement already satisfied: requests in /home/ubuntu/LLM-as-a-Service/llama-fine-tuning/lib/python3.8/site-packages (from guidance) (2.31.0)\n",
      "Collecting gptcache\n",
      "  Downloading gptcache-0.1.42-py3-none-any.whl (131 kB)\n",
      "\u001b[K     |████████████████████████████████| 131 kB 125.0 MB/s eta 0:00:01\n",
      "\u001b[?25hRequirement already satisfied: platformdirs in /home/ubuntu/LLM-as-a-Service/llama-fine-tuning/lib/python3.8/site-packages (from guidance) (3.10.0)\n",
      "Collecting msal\n",
      "  Downloading msal-1.25.0-py2.py3-none-any.whl (97 kB)\n",
      "\u001b[K     |████████████████████████████████| 97 kB 6.7 MB/s s eta 0:00:01\n",
      "\u001b[?25hCollecting pygtrie\n",
      "  Downloading pygtrie-2.5.0-py3-none-any.whl (25 kB)\n",
      "Requirement already satisfied: aiohttp in /home/ubuntu/LLM-as-a-Service/llama-fine-tuning/lib/python3.8/site-packages (from guidance) (3.8.5)\n",
      "Requirement already satisfied: nest-asyncio in /home/ubuntu/LLM-as-a-Service/llama-fine-tuning/lib/python3.8/site-packages (from guidance) (1.5.7)\n",
      "Requirement already satisfied: regex>=2022.1.18 in /home/ubuntu/LLM-as-a-Service/llama-fine-tuning/lib/python3.8/site-packages (from tiktoken>=0.3->guidance) (2023.6.3)\n",
      "Collecting httpx<1,>=0.23.0\n",
      "  Downloading httpx-0.25.1-py3-none-any.whl (75 kB)\n",
      "\u001b[K     |████████████████████████████████| 75 kB 3.0 MB/s s eta 0:00:01\n",
      "\u001b[?25hRequirement already satisfied: anyio<4,>=3.5.0 in /home/ubuntu/LLM-as-a-Service/llama-fine-tuning/lib/python3.8/site-packages (from openai>=0.27.8->guidance) (3.7.1)\n",
      "Requirement already satisfied: pydantic<3,>=1.9.0 in /home/ubuntu/LLM-as-a-Service/llama-fine-tuning/lib/python3.8/site-packages (from openai>=0.27.8->guidance) (1.10.12)\n",
      "Requirement already satisfied: tqdm>4 in /home/ubuntu/LLM-as-a-Service/llama-fine-tuning/lib/python3.8/site-packages (from openai>=0.27.8->guidance) (4.65.0)\n",
      "Requirement already satisfied: typing-extensions<5,>=4.5 in /home/ubuntu/LLM-as-a-Service/llama-fine-tuning/lib/python3.8/site-packages (from openai>=0.27.8->guidance) (4.7.1)\n",
      "Collecting distro<2,>=1.7.0\n",
      "  Downloading distro-1.8.0-py3-none-any.whl (20 kB)\n",
      "Requirement already satisfied: idna<4,>=2.5 in /home/ubuntu/LLM-as-a-Service/llama-fine-tuning/lib/python3.8/site-packages (from requests->guidance) (3.4)\n",
      "Requirement already satisfied: certifi>=2017.4.17 in /home/ubuntu/LLM-as-a-Service/llama-fine-tuning/lib/python3.8/site-packages (from requests->guidance) (2023.7.22)\n",
      "Requirement already satisfied: charset-normalizer<4,>=2 in /home/ubuntu/LLM-as-a-Service/llama-fine-tuning/lib/python3.8/site-packages (from requests->guidance) (3.2.0)\n",
      "Requirement already satisfied: urllib3<3,>=1.21.1 in /home/ubuntu/LLM-as-a-Service/llama-fine-tuning/lib/python3.8/site-packages (from requests->guidance) (2.0.4)\n",
      "Requirement already satisfied: cachetools in /home/ubuntu/LLM-as-a-Service/llama-fine-tuning/lib/python3.8/site-packages (from gptcache->guidance) (5.3.1)\n",
      "Collecting PyJWT[crypto]<3,>=1.0.0\n",
      "  Downloading PyJWT-2.8.0-py3-none-any.whl (22 kB)\n",
      "Collecting cryptography<44,>=0.6\n",
      "  Downloading cryptography-41.0.5-cp37-abi3-manylinux_2_17_x86_64.manylinux2014_x86_64.whl (4.4 MB)\n",
      "\u001b[K     |████████████████████████████████| 4.4 MB 118.7 MB/s eta 0:00:01\n",
      "\u001b[?25hRequirement already satisfied: multidict<7.0,>=4.5 in /home/ubuntu/LLM-as-a-Service/llama-fine-tuning/lib/python3.8/site-packages (from aiohttp->guidance) (6.0.4)\n",
      "Requirement already satisfied: frozenlist>=1.1.1 in /home/ubuntu/LLM-as-a-Service/llama-fine-tuning/lib/python3.8/site-packages (from aiohttp->guidance) (1.4.0)\n",
      "Requirement already satisfied: attrs>=17.3.0 in /home/ubuntu/LLM-as-a-Service/llama-fine-tuning/lib/python3.8/site-packages (from aiohttp->guidance) (23.1.0)\n",
      "Requirement already satisfied: yarl<2.0,>=1.0 in /home/ubuntu/LLM-as-a-Service/llama-fine-tuning/lib/python3.8/site-packages (from aiohttp->guidance) (1.9.2)\n",
      "Requirement already satisfied: aiosignal>=1.1.2 in /home/ubuntu/LLM-as-a-Service/llama-fine-tuning/lib/python3.8/site-packages (from aiohttp->guidance) (1.3.1)\n",
      "Requirement already satisfied: async-timeout<5.0,>=4.0.0a3 in /home/ubuntu/LLM-as-a-Service/llama-fine-tuning/lib/python3.8/site-packages (from aiohttp->guidance) (4.0.2)\n",
      "Requirement already satisfied: sniffio in /home/ubuntu/LLM-as-a-Service/llama-fine-tuning/lib/python3.8/site-packages (from httpx<1,>=0.23.0->openai>=0.27.8->guidance) (1.3.0)\n",
      "Collecting httpcore\n",
      "  Downloading httpcore-1.0.2-py3-none-any.whl (76 kB)\n",
      "\u001b[K     |████████████████████████████████| 76 kB 5.5 MB/s s eta 0:00:01\n",
      "\u001b[?25hRequirement already satisfied: exceptiongroup; python_version < \"3.11\" in /home/ubuntu/LLM-as-a-Service/llama-fine-tuning/lib/python3.8/site-packages (from anyio<4,>=3.5.0->openai>=0.27.8->guidance) (1.1.2)\n",
      "Collecting cffi>=1.12\n",
      "  Using cached cffi-1.16.0-cp38-cp38-manylinux_2_17_x86_64.manylinux2014_x86_64.whl (444 kB)\n",
      "Requirement already satisfied: h11<0.15,>=0.13 in /home/ubuntu/LLM-as-a-Service/llama-fine-tuning/lib/python3.8/site-packages (from httpcore->httpx<1,>=0.23.0->openai>=0.27.8->guidance) (0.14.0)\n",
      "Collecting pycparser\n",
      "  Using cached pycparser-2.21-py2.py3-none-any.whl (118 kB)\n",
      "Installing collected packages: pyparsing, tiktoken, httpcore, httpx, distro, openai, diskcache, gptcache, pycparser, cffi, cryptography, PyJWT, msal, pygtrie, guidance\n",
      "Successfully installed PyJWT-2.8.0 cffi-1.16.0 cryptography-41.0.5 diskcache-5.6.3 distro-1.8.0 gptcache-0.1.42 guidance-0.0.64 httpcore-1.0.2 httpx-0.25.1 msal-1.25.0 openai-1.2.4 pycparser-2.21 pygtrie-2.5.0 pyparsing-3.1.1 tiktoken-0.5.1\n"
     ]
    }
   ],
   "source": [
    "!pip install guidance"
   ]
  },
  {
   "cell_type": "code",
   "execution_count": 36,
   "metadata": {},
   "outputs": [
    {
     "name": "stdout",
     "output_type": "stream",
     "text": [
      "start to install package: redis\n",
      "huggingface/tokenizers: The current process just got forked, after parallelism has already been used. Disabling parallelism to avoid deadlocks...\n",
      "To disable this warning, you can either:\n",
      "\t- Avoid using `tokenizers` before the fork if possible\n",
      "\t- Explicitly set the environment variable TOKENIZERS_PARALLELISM=(true | false)\n",
      "successfully installed package: redis\n",
      "start to install package: redis-om\n",
      "huggingface/tokenizers: The current process just got forked, after parallelism has already been used. Disabling parallelism to avoid deadlocks...\n",
      "To disable this warning, you can either:\n",
      "\t- Avoid using `tokenizers` before the fork if possible\n",
      "\t- Explicitly set the environment variable TOKENIZERS_PARALLELISM=(true | false)\n",
      "successfully installed package: redis-om\n"
     ]
    }
   ],
   "source": [
    "import guidance"
   ]
  },
  {
   "cell_type": "code",
   "execution_count": 39,
   "metadata": {},
   "outputs": [],
   "source": [
    "guidance.llm = guidance.llms.Transformers(model,tokenizer=tokenizer)"
   ]
  },
  {
   "cell_type": "code",
   "execution_count": 41,
   "metadata": {},
   "outputs": [],
   "source": [
    "# define the prompt\n",
    "program = guidance(\"\"\"Given a text containing many references, re-organise each of them in a json format that contains their reference id, paper title, authors and year. \n",
    "----\n",
    "```json\n",
    "{\n",
    "    \"ref_id\": \"{{reference id}}\"\n",
    "    \"title\": \"{{paper title}}\",\n",
    "    \"authors\": \"{{authors}}\",\n",
    "    \"year\": \"{{year}}\",\n",
    "```\"\"\")\n",
    "\n"
   ]
  },
  {
   "cell_type": "code",
   "execution_count": 42,
   "metadata": {},
   "outputs": [],
   "source": [
    "examples = [\n",
    "    {'input': \"Balducci, C., Cecchin, M., Fraccaroli, F., & Schaufeli, W. B. (2012). Exploring the relationship between workaholism and workplace aggressive behaviour: The role of job-related emotion.  Personality and Individual Differences, 53(5), 629-634. https://doi.org/10.1016/j.paid.2012.05.004, Aziz, S., Pittman, C., & Wuensch, K. (2020). Workaholism and organizational citizenship behaviors: Exploring gender role beliefs.  International Journal of Workplace Health Management, 13 (4), 413-425. https://doi.org/10.1108/IJWHM-06-2019-0089  Bakker, A. B., & Bal, P. M. (2010). Weekly work engagement and performance: A study among starting teachers. Journal of Occupational and Organizational Psychology, 83 (1), 189-206. https://doi.org/10.1348/096317909X402596  Balducci, C., Cecchin, M., Fraccaroli, F., & Schaufeli, W. B. (2012). Exploring the relationship between workaholism and workplace aggressive behaviour: The role of job-related emotion.  Personality and Individual Differences, 53(5), 629-634. https://doi.org/10.1016/j.paid.2012.05.004  Barbaranelli, C., Fida, R., & Gulandri, M. (2013). Assessing counterproductive work behavior: A study on the dimensionality of CWB-checklist . TMP-Testing, Psychometrics, Methodology in Applied Psychology, 20 (3), 235-248.  https://doi.org/10.4473/TPM20.3.3\"},\n",
    "     {\n",
    "         \"ref_id\": 'id1',\n",
    "         \"title\": \"Exploring the relationship between workaholism and workplace aggressive behaviour: The role of job-related emotion.  Personality and Individual Differences\",\n",
    "         \"authors\": \"Balducci, C., Cecchin, M., Fraccaroli, F., & Schaufeli, W. B.\",\n",
    "         \"year\": \"2012\"\n",
    "     },\n",
    "     {\n",
    "         \"ref_id\": 'id2',\n",
    "         \"title\": \"Workaholism and organizational citizenship behaviors: Exploring gender role beliefs.\",\n",
    "         \"authors\": \"Aziz, S., Pittman, C., & Wuensch, K.\",\n",
    "         \"year\": \"2020\"\n",
    "     },\n",
    "     {\n",
    "         'more references ...'\n",
    "     }\n",
    "]"
   ]
  },
  {
   "cell_type": "code",
   "execution_count": 43,
   "metadata": {},
   "outputs": [
    {
     "data": {
      "text/html": [
       "<div id=\"guidance-stop-button-8b4eb446-e8e5-485c-8820-bb4f238fdccc\" style=\"cursor: pointer; margin: 0px; display: none; float: right; padding: 3px; border-radius: 4px 4px 4px 4px; border: 0px solid rgba(127, 127, 127, 1); padding-left: 10px; padding-right: 10px; font-size: 13px; background-color: rgba(127, 127, 127, 0.25);\">Stop program</div><div id=\"guidance-content-8b4eb446-e8e5-485c-8820-bb4f238fdccc\"><pre style='margin: 0px; padding: 0px; padding-left: 8px; margin-left: -8px; border-radius: 0px; border-left: 1px solid rgba(127, 127, 127, 0.2); white-space: pre-wrap; font-family: ColfaxAI, Arial; font-size: 15px; line-height: 23px;'>Given a text containing many references, re-organise each of them in a json format that contains their reference id, paper title, authors and year. \n",
       "----\n",
       "```json\n",
       "{\n",
       "    &quot;ref_id&quot;: &quot;<span style='font-family: monospace; background-color: rgba(0, 0, 0, 0.05);'>{{reference id}}</span>&quot;\n",
       "    &quot;title&quot;: &quot;<span style='font-family: monospace; background-color: rgba(0, 0, 0, 0.05);'>{{paper title}}</span>&quot;,\n",
       "    &quot;authors&quot;: &quot;<span style='font-family: monospace; background-color: rgba(0, 0, 0, 0.05);'>{{authors}}</span>&quot;,\n",
       "    &quot;year&quot;: &quot;<span style='font-family: monospace; background-color: rgba(0, 0, 0, 0.05);'>{{year}}</span>&quot;,\n",
       "```</pre></div>\n",
       "<script type=\"text/javascript\">(()=>{var t={296:(t,e,n)=>{var i=NaN,o=\"[object Symbol]\",r=/^\\s+|\\s+$/g,a=/^[-+]0x[0-9a-f]+$/i,s=/^0b[01]+$/i,c=/^0o[0-7]+$/i,d=parseInt,u=\"object\"==typeof n.g&&n.g&&n.g.Object===Object&&n.g,l=\"object\"==typeof self&&self&&self.Object===Object&&self,f=u||l||Function(\"return this\")(),h=Object.prototype.toString,p=Math.max,m=Math.min,g=function(){return f.Date.now()};function b(t){var e=typeof t;return!!t&&(\"object\"==e||\"function\"==e)}function y(t){if(\"number\"==typeof t)return t;if(function(t){return\"symbol\"==typeof t||function(t){return!!t&&\"object\"==typeof t}(t)&&h.call(t)==o}(t))return i;if(b(t)){var e=\"function\"==typeof t.valueOf?t.valueOf():t;t=b(e)?e+\"\":e}if(\"string\"!=typeof t)return 0===t?t:+t;t=t.replace(r,\"\");var n=s.test(t);return n||c.test(t)?d(t.slice(2),n?2:8):a.test(t)?i:+t}t.exports=function(t,e,n){var i,o,r,a,s,c,d=0,u=!1,l=!1,f=!0;if(\"function\"!=typeof t)throw new TypeError(\"Expected a function\");function h(e){var n=i,r=o;return i=o=void 0,d=e,a=t.apply(r,n)}function v(t){var n=t-c;return void 0===c||n>=e||n<0||l&&t-d>=r}function _(){var t=g();if(v(t))return w(t);s=setTimeout(_,function(t){var n=e-(t-c);return l?m(n,r-(t-d)):n}(t))}function w(t){return s=void 0,f&&i?h(t):(i=o=void 0,a)}function j(){var t=g(),n=v(t);if(i=arguments,o=this,c=t,n){if(void 0===s)return function(t){return d=t,s=setTimeout(_,e),u?h(t):a}(c);if(l)return s=setTimeout(_,e),h(c)}return void 0===s&&(s=setTimeout(_,e)),a}return e=y(e)||0,b(n)&&(u=!!n.leading,r=(l=\"maxWait\"in n)?p(y(n.maxWait)||0,e):r,f=\"trailing\"in n?!!n.trailing:f),j.cancel=function(){void 0!==s&&clearTimeout(s),d=0,i=c=o=s=void 0},j.flush=function(){return void 0===s?a:w(g())},j}},777:t=>{var e,n,i=Math.max,o=(e=function(t,e){return function(t,e,n){if(\"function\"!=typeof t)throw new TypeError(\"Expected a function\");return setTimeout((function(){t.apply(void 0,n)}),1)}(t,0,e)},n=i(void 0===n?e.length-1:n,0),function(){for(var t=arguments,o=-1,r=i(t.length-n,0),a=Array(r);++o<r;)a[o]=t[n+o];o=-1;for(var s=Array(n+1);++o<n;)s[o]=t[o];return s[n]=a,function(t,e,n){switch(n.length){case 0:return t.call(e);case 1:return t.call(e,n[0]);case 2:return t.call(e,n[0],n[1]);case 3:return t.call(e,n[0],n[1],n[2])}return t.apply(e,n)}(e,this,s)});t.exports=o}},e={};function n(i){var o=e[i];if(void 0!==o)return o.exports;var r=e[i]={exports:{}};return t[i](r,r.exports,n),r.exports}n.n=t=>{var e=t&&t.__esModule?()=>t.default:()=>t;return n.d(e,{a:e}),e},n.d=(t,e)=>{for(var i in e)n.o(e,i)&&!n.o(t,i)&&Object.defineProperty(t,i,{enumerable:!0,get:e[i]})},n.g=function(){if(\"object\"==typeof globalThis)return globalThis;try{return this||new Function(\"return this\")()}catch(t){if(\"object\"==typeof window)return window}}(),n.o=(t,e)=>Object.prototype.hasOwnProperty.call(t,e),(()=>{\"use strict\";const t=t=>{const e=new Set;do{for(const n of Reflect.ownKeys(t))e.add([t,n])}while((t=Reflect.getPrototypeOf(t))&&t!==Object.prototype);return e};function e(e,{include:n,exclude:i}={}){const o=t=>{const e=e=>\"string\"==typeof e?t===e:e.test(t);return n?n.some(e):!i||!i.some(e)};for(const[n,i]of t(e.constructor.prototype)){if(\"constructor\"===i||!o(i))continue;const t=Reflect.getOwnPropertyDescriptor(n,i);t&&\"function\"==typeof t.value&&(e[i]=e[i].bind(e))}return e}var i=n(777),o=n.n(i),r=n(296),a=n.n(r);class s{constructor(t,n){e(this),this.interfaceId=t,this.callbackMap={},this.data={},this.pendingData={},this.jcomm=new c(\"guidance_interface_target_\"+this.interfaceId,this.updateData,\"open\"),this.debouncedSendPendingData500=a()(this.sendPendingData,500),this.debouncedSendPendingData1000=a()(this.sendPendingData,1e3),n&&o()(n)}send(t,e){this.addPendingData(t,e),this.sendPendingData()}sendEvent(t){for(const e of Object.keys(t))this.addPendingData(e,t[e]);this.sendPendingData()}debouncedSendEvent500(t){for(const e of Object.keys(t))this.addPendingData(e,t[e]);this.debouncedSendPendingData500()}debouncedSend500(t,e){this.addPendingData(t,e),this.debouncedSendPendingData500()}debouncedSend1000(t,e){this.addPendingData(t,e),this.debouncedSendPendingData1000()}addPendingData(t,e){Array.isArray(t)||(t=[t]);for(const n in t)this.pendingData[t[n]]=e}updateData(t){t=JSON.parse(t.data);for(const e in t)this.data[e]=t[e];for(const e in t)e in this.callbackMap&&this.callbackMap[e](this.data[e])}subscribe(t,e){this.callbackMap[t]=e,o()((e=>this.callbackMap[t](this.data[t])))}sendPendingData(){this.jcomm.send_data(this.pendingData),this.pendingData={}}}class c{constructor(t,e,n=\"open\"){this._fire_callback=this._fire_callback.bind(this),this._register=this._register.bind(this),this.jcomm=void 0,this.callback=e,void 0!==window.Jupyter?\"register\"===n?Jupyter.notebook.kernel.comm_manager.register_target(t,this._register):(this.jcomm=Jupyter.notebook.kernel.comm_manager.new_comm(t),this.jcomm.on_msg(this._fire_callback)):void 0!==window._mgr&&(\"register\"===n?window._mgr.widgetManager.proxyKernel.registerCommTarget(t,this._register):(this.jcomm=window._mgr.widgetManager.proxyKernel.createComm(t),this.jcomm.open({},\"\"),this.jcomm.onMsg=this._fire_callback))}send_data(t){void 0!==this.jcomm?this.jcomm.send(t):console.error(\"Jupyter comm module not yet loaded! So we can't send the message.\")}_register(t,e){this.jcomm=t,this.jcomm.on_msg(this._fire_callback)}_fire_callback(t){this.callback(t.content.data)}}class d{constructor(t,n){e(this),this.id=t,this.comm=new s(t),this.comm.subscribe(\"append\",this.appendData),this.comm.subscribe(\"replace\",this.replaceData),this.comm.subscribe(\"event\",this.eventOccurred),this.element=document.getElementById(\"guidance-content-\"+t),this.stop_button=document.getElementById(\"guidance-stop-button-\"+t),this.stop_button.onclick=()=>this.comm.send(\"event\",\"stop\")}appendData(t){t&&(this.stop_button.style.display=\"inline-block\",this.element.innerHTML+=t)}replaceData(t){t&&(this.stop_button.style.display=\"inline-block\",this.element.innerHTML=t)}eventOccurred(t){\"complete\"===t&&(this.stop_button.style.display=\"none\")}}window._guidanceDisplay=function(t,e){return new d(t,e)}})()})();; window._guidanceDisplay(\"8b4eb446-e8e5-485c-8820-bb4f238fdccc\");</script>"
      ]
     },
     "metadata": {},
     "output_type": "display_data"
    }
   ],
   "source": [
    "# execute the prompt\n",
    "out = program(input='''Giannini, M., & Loscalzo, Y. (2016). Workaholism: Health risk and prevention \n",
    "in the organizations. In A. di Fabio (Ed.), Neuroticism: Characteristics, \n",
    "impact on job performance and health outcomes (pp. 49-60). Nova \n",
    "Science Publishers.\n",
    "Graham, J. W. (1991). Servant-leadership in organizations: Inspirational \n",
    "and moral. The Leadership Quarterly, 2 (2), 105-119.  https://doi.\n",
    "org/10.1016/1048-9843(91)90025-WGreenleaf, R. K. (1977).  Servant-leadership: A journey into the nature of \n",
    "legitimate power and greatness . Paulist Press.\n",
    "Gruys, M. L., & Sackett, P. R. (2003). Investigating the dimensionality of \n",
    "counterproductive work behavior.  International Journal of Selection \n",
    "and Assessment, 11 (1), 30-41. https://doi.org/10.1111/1468-2389.00224\n",
    "Heymans, M. W., & Eekhout, I. (2019). Applied missing data analysis with \n",
    "SPSS and ®Studio. https://bookdown.org/mwheymans/bookmi\n",
    "Hofstede, G. (1980). Culture’s consequences: International differences in \n",
    "work-related values.  SAGE.\n",
    "Hofstede, G. (1991). Cultures and organization: Software of the mind. \n",
    "McGraw-Hill.\n",
    "Hu, L. T., & Bentler, P. M. (1999). Cut-off criteria for fit indexes in covariance \n",
    "structure analysis: Conventional criteria versus new alternatives. \n",
    "Structural Equation Modeling: A Multidisciplinary Journal, 6 (1), 1-55. \n",
    "https://doi.org/10.1080/10705519909540118\n",
    "James, L. R., Mulaik, S. A., & Brett, J. M. (1982). Conditions for confirmatory \n",
    "analysis and causal inference. SAGE.''', examples=examples)"
   ]
  },
  {
   "cell_type": "code",
   "execution_count": 47,
   "metadata": {},
   "outputs": [
    {
     "ename": "KeyError",
     "evalue": "'authors'",
     "output_type": "error",
     "traceback": [
      "\u001b[0;31m---------------------------------------------------------------------------\u001b[0m",
      "\u001b[0;31mKeyError\u001b[0m                                  Traceback (most recent call last)",
      "\u001b[1;32m/home/ubuntu/LLM-as-a-Service/fine-tuning/arxiv_reference_parsing.ipynb Cell 32\u001b[0m line \u001b[0;36m1\n\u001b[0;32m----> <a href='vscode-notebook-cell://ssh-remote%2B185.47.227.189/home/ubuntu/LLM-as-a-Service/fine-tuning/arxiv_reference_parsing.ipynb#Y104sdnNjb2RlLXJlbW90ZQ%3D%3D?line=0'>1</a>\u001b[0m out[\u001b[39m\"\u001b[39;49m\u001b[39mauthors\u001b[39;49m\u001b[39m\"\u001b[39;49m]\n",
      "File \u001b[0;32m~/LLM-as-a-Service/llama-fine-tuning/lib/python3.8/site-packages/guidance/_program.py:470\u001b[0m, in \u001b[0;36mProgram.__getitem__\u001b[0;34m(self, key)\u001b[0m\n\u001b[1;32m    469\u001b[0m \u001b[39mdef\u001b[39;00m \u001b[39m__getitem__\u001b[39m(\u001b[39mself\u001b[39m, key):\n\u001b[0;32m--> 470\u001b[0m     \u001b[39mreturn\u001b[39;00m \u001b[39mself\u001b[39;49m\u001b[39m.\u001b[39;49m_variables[key]\n",
      "\u001b[0;31mKeyError\u001b[0m: 'authors'"
     ]
    }
   ],
   "source": [
    "out[\"authors\"]"
   ]
  },
  {
   "cell_type": "markdown",
   "metadata": {},
   "source": [
    "## Prompts template"
   ]
  },
  {
   "cell_type": "code",
   "execution_count": 26,
   "metadata": {},
   "outputs": [],
   "source": [
    "template = \"\"\"<s>[INST] <<SYS>>\\n\\n\n",
    "You are a customer support representative for a startup called EscherCloudAI.\\n\n",
    "{context}\n",
    "For context, EscherCloudAI does not offer refunds.\\n\n",
    "Answer the following customer question:\\n\\n\n",
    "The current conversation is here: \n",
    "{chat_history}\n",
    "<</SYS> \n",
    "Human: {question}\n",
    "Chatbot: \n",
    "[/INST]\n",
    "\"\"\"\n",
    "prompt2 = PromptTemplate(\n",
    "    input_variables=[\"chat_history\", \"question\",\"context\"],template=template)\n",
    "memory = ConversationBufferMemory(memory_key=\"chat_history\")"
   ]
  },
  {
   "cell_type": "code",
   "execution_count": 17,
   "metadata": {},
   "outputs": [],
   "source": [
    "template = \"\"\"You are a master PDF reader and when given a set of references you\n",
    "    always extract the most important information of the papers. For example, when\n",
    "    you were given the following references:\n",
    "\n",
    "    Lei Jimmy Ba, Jamie Ryan Kiros, and Geoffrey E.\n",
    "    Hinton. 2016. Layer normalization. CoRR ,\n",
    "    abs/1607.06450.\n",
    "    Eyal Ben-David, Nadav Oved, and Roi Reichart.\n",
    "    2021. PADA: A prompt-based autoregressive ap-\n",
    "    proach for adaptation to unseen domains. CoRR ,\n",
    "    abs/2102.12206.\n",
    "    Tom B. Brown, Benjamin Mann, Nick Ryder, Melanie\n",
    "    Subbiah, Jared Kaplan, Prafulla Dhariwal, Arvind\n",
    "    Neelakantan, Pranav Shyam, Girish Sastry, Amanda\n",
    "    Askell, Sandhini Agarwal, Ariel Herbert-V oss,\n",
    "    Gretchen Krueger, Tom Henighan, Rewon Child,\n",
    "    Aditya Ramesh, Daniel M. Ziegler, Jeffrey Wu,\n",
    "    Clemens Winter, Christopher Hesse, Mark Chen,\n",
    "    Eric Sigler, Mateusz Litwin, Scott Gray, Benjamin\n",
    "    Chess, Jack Clark, Christopher Berner, Sam Mc-\n",
    "    Candlish, Alec Radford, Ilya Sutskever, and Dario\n",
    "    Amodei. 2020. Language models are few-shot learn-\n",
    "    ers. In Advances in Neural Information Processing\n",
    "    Systems 33: Annual Conference on Neural Informa-\n",
    "    tion Processing Systems 2020, NeurIPS 2020, De-\n",
    "    cember 6-12, 2020, virtual .\n",
    "\n",
    "    You extract the following:\n",
    "\n",
    "    Layer normalization | Lei Jimmy Ba, Jamie Ryan Kiros, Geoffrey E. Hinton | 2016\n",
    "    PADA: A prompt-based autoregressive approach for adaptation to unseen domains | Eyal Ben-David, Nadav Oved, Roi Reichart\n",
    "    Language models are few-shot learners | Tom B. Brown, et al. | 2020\n",
    "\n",
    "    Here is the chat history: {chat_history}\n",
    "    In the References below there are many papers. Extract their titles, authors, and years.\n",
    "\n",
    "    References: {input}\n",
    "\n",
    "    Extracted:\n",
    "    \"\"\"\n",
    "\n",
    "prompt2 = PromptTemplate(\n",
    "    input_variables=[\"chat_history\",\"input\"],template=template)\n",
    "memory = ConversationBufferMemory(memory_key=\"chat_history\")\n",
    "\n",
    "chain2 = ConversationChain(\n",
    "    prompt=prompt2,\n",
    "    llm=llm,\n",
    "    memory=memory,\n",
    "    verbose=True\n",
    ")"
   ]
  },
  {
   "cell_type": "code",
   "execution_count": 94,
   "metadata": {},
   "outputs": [],
   "source": [
    "from string import Template\n",
    "\n",
    "template = \"\"\"\n",
    "AI should always respond with references in a structured JSON format.\n",
    "It should not pretend to be human and should only include paper's title, authors, and year.\n",
    "For multiple references, create a list under 'references' with each reference as an item.\n",
    "AI should respond with 'I don't know mate!' if it doesn't know the answer.\n",
    "The template should use the current conversation context and the user's input.\n",
    "\n",
    "Always answer by saying first 'Here are the references :)'. Also, always answer in json format like this:\n",
    "\n",
    "human: Can you format these references: \"Balducci, C., Cecchin, M., Fraccaroli, F., & Schaufeli, W. B. (2012). Exploring the relationship between workaholism and workplace aggressive behaviour: The role of job-related emotion.  Personality and Individual Differences, 53(5), 629-634. https://doi.org/10.1016/j.paid.2012.05.004\"?\n",
    "AI: ```json\n",
    "{{\n",
    "  \"message\": \"Here are the references :)\",\n",
    "  \"references\": [\n",
    "    {{\n",
    "      \"ref_id\": \"ref1\",\n",
    "      \"title\": \"Title of the first paper\",\n",
    "      \"authors\": [\"Author1\", \"Author2\"],\n",
    "      \"year\": 2012\n",
    "    }},\n",
    "    {{\n",
    "      \"ref_id\": \"ref2\",\n",
    "      \"title\": \"Title of the second paper\",\n",
    "      \"authors\": [\"Author3\", \"Author4\"],\n",
    "      \"year\": 2013\n",
    "    }}\n",
    "  ]\n",
    "}}```\n",
    "\n",
    "Only use the paper's title, author and year, the rest of the information is irrelevant. If there are more than one reference then you need to create n reference where n is the number of reference refn+1 \n",
    "Never forget, AI does not ask questions or pretend to be human, AI or anything else than AI. AI simply answer the input as truthfully as possible. If AI doesn't know the answer he says: I don't know mate!\n",
    "The current conversation:\n",
    "{chat_history}\n",
    "Human: {input}\n",
    "AI:\"\"\"\n",
    "\n",
    "#template = Template(template)\n",
    "#processed_string = template.substitute()\n",
    "\n",
    "prompt = PromptTemplate(\n",
    "    input_variables=[\"chat_history\", \"input\"],template=template)\n",
    "memory = ConversationBufferMemory(memory_key=\"chat_history\")\n",
    "\n",
    "#better example\n",
    "#more concrete exmaple of context and what it does. \n",
    "#"
   ]
  },
  {
   "cell_type": "code",
   "execution_count": null,
   "metadata": {},
   "outputs": [],
   "source": [
    "template = \"\"\"\n",
    "AI should always respond with references in a structured JSON format.\n",
    "It should not pretend to be human and should only include paper's title, authors, and year.\n",
    "For multiple references, create a list under 'references' with each reference as an item.\n",
    "AI should respond with 'I don't know mate!' if it doesn't know the answer.\n",
    "The template should use the current conversation context and the user's input.\n",
    "\n",
    "Always answer by saying first 'Here are the references :)'. Also, always answer in json format like this:\n",
    "\n",
    "human: Can you format these references: \"Balducci, C., Cecchin, M., Fraccaroli, F., & Schaufeli, W. B. (2012). Exploring the relationship between workaholism and workplace aggressive behaviour: The role of job-related emotion.  Personality and Individual Differences, 53(5), 629-634. https://doi.org/10.1016/j.paid.2012.05.004\"?\n",
    "AI: ```json\n",
    "{{\n",
    "  \"message\": \"Here are the references :)\",\n",
    "  \"references\": [\n",
    "    {{\n",
    "      \"ref_id\": \"ref1\",\n",
    "      \"title\": \"Title of the first paper\",\n",
    "      \"authors\": [\"Author1\", \"Author2\"],\n",
    "      \"year\": 2012\n",
    "    }},\n",
    "    {{\n",
    "      \"ref_id\": \"ref2\",\n",
    "      \"title\": \"Title of the second paper\",\n",
    "      \"authors\": [\"Author3\", \"Author4\"],\n",
    "      \"year\": 2013\n",
    "    }}\n",
    "  ]\n",
    "}}```\n",
    "\n",
    "Only use the paper's title, author and year, the rest of the information is irrelevant. If there are more than one reference then you need to create n reference where n is the number of reference refn+1 \n",
    "Never forget, AI does not ask questions or pretend to be human, AI or anything else than AI. AI simply answer the input as truthfully as possible. If AI doesn't know the answer he says: I don't know mate!\n",
    "The current conversation:\n",
    "{chat_history}\n",
    "Human: {input}\n",
    "AI:\"\"\"\n"
   ]
  },
  {
   "cell_type": "code",
   "execution_count": 30,
   "metadata": {},
   "outputs": [],
   "source": [
    "template2 = '''\n",
    "Input:\n",
    "List of references with details (title, authors, year, etc.):\n",
    "\n",
    "\"Example Title 1\", \"Author A, Author B\",2021, \"Example Title 2\", \"Author C, Author D\", 2020, \"Example Title 3\", \"Author E, Author F\", 2019\n",
    "...\n",
    "\n",
    "Task:\n",
    "Format the above list of references into a JSON structure with a unique ID for each reference, including the title, authors, and year of publication.\n",
    "\n",
    "Expected Output:\n",
    "\n",
    "{{\n",
    "    \"references\": [\n",
    "        {{\n",
    "            \"id\": \"ref1\",\n",
    "            \"title\": \"Example Title 1\",\n",
    "            \"authors\": [\"Author A\", \"Author B\"],\n",
    "            \"year\": 2021\n",
    "        }},\n",
    "        {{\n",
    "            \"id\": \"ref2\",\n",
    "            \"title\": \"Example Title 2\",\n",
    "            \"authors\": [\"Author C\", \"Author D\"],\n",
    "            \"year\": 2020\n",
    "        }},\n",
    "        {{\n",
    "            \"id\": \"ref3\",\n",
    "            \"title\": \"Example Title 3\",\n",
    "            \"authors\": [\"Author E\", \"Author F\"],\n",
    "            \"year\": 2019\n",
    "        }},\n",
    "        ...\n",
    "    ]\n",
    "}}\n",
    "\n",
    "The current conversation is as follow: {chat_history}\n",
    "Human: {input}\n",
    "AI:\n",
    "\n",
    "'''\n",
    "\n",
    "prompt = PromptTemplate(\n",
    "    input_variables=[\"chat_history\", \"input\"],template=template2)\n",
    "memory = ConversationBufferMemory(memory_key=\"chat_history\")\n"
   ]
  },
  {
   "cell_type": "code",
   "execution_count": 31,
   "metadata": {},
   "outputs": [],
   "source": [
    "chain3 = ConversationChain(\n",
    "    prompt=prompt,\n",
    "    llm=llm,\n",
    "    memory=memory,\n",
    "    verbose=True\n",
    ")"
   ]
  },
  {
   "cell_type": "code",
   "execution_count": 18,
   "metadata": {},
   "outputs": [],
   "source": []
  },
  {
   "cell_type": "code",
   "execution_count": 32,
   "metadata": {},
   "outputs": [
    {
     "name": "stderr",
     "output_type": "stream",
     "text": [
      "Setting `pad_token_id` to `eos_token_id`:2 for open-end generation.\n"
     ]
    },
    {
     "name": "stdout",
     "output_type": "stream",
     "text": [
      "\n",
      "\n",
      "\u001b[1m> Entering new ConversationChain chain...\u001b[0m\n",
      "Prompt after formatting:\n",
      "\u001b[32;1m\u001b[1;3m\n",
      "Input:\n",
      "List of references with details (title, authors, year, etc.):\n",
      "\n",
      "\"Example Title 1\", \"Author A, Author B\",2021, \"Example Title 2\", \"Author C, Author D\", 2020, \"Example Title 3\", \"Author E, Author F\", 2019\n",
      "...\n",
      "\n",
      "Task:\n",
      "Format the above list of references into a JSON structure with a unique ID for each reference, including the title, authors, and year of publication.\n",
      "\n",
      "Expected Output:\n",
      "\n",
      "{\n",
      "    \"references\": [\n",
      "        {\n",
      "            \"id\": \"ref1\",\n",
      "            \"title\": \"Example Title 1\",\n",
      "            \"authors\": [\"Author A\", \"Author B\"],\n",
      "            \"year\": 2021\n",
      "        },\n",
      "        {\n",
      "            \"id\": \"ref2\",\n",
      "            \"title\": \"Example Title 2\",\n",
      "            \"authors\": [\"Author C\", \"Author D\"],\n",
      "            \"year\": 2020\n",
      "        },\n",
      "        {\n",
      "            \"id\": \"ref3\",\n",
      "            \"title\": \"Example Title 3\",\n",
      "            \"authors\": [\"Author E\", \"Author F\"],\n",
      "            \"year\": 2019\n",
      "        },\n",
      "        ...\n",
      "    ]\n",
      "}\n",
      "\n",
      "The current conversation is as follow: \n",
      "Human: Can you format this reference? : \"Allen, T. D., & Rush, M. C. (2001). The influence of ratee gender on ratings of organizational citizenship behavior. Journal of 63 HWI, Servant Leadership, OCB and CWB in Italy Applied Social Psychology, 31 (12), 2561-2587.  https://doi.org/10.1111/j.1559-1816.2001.tb00191.x  Andreassen, C. S., Nielsen, M. B., Pallesen, S., & Gjerstad, J. (2019). The relationship between psychosocial work variables and workaholism: Findings from a nationally representative survey. International Journal of Stress Management, 26 (1), 1-10. https://doi.org/10.1037/str0000073   Aziz, S., Pittman, C., & Wuensch, K. (2020). Workaholism and organizational citizenship behaviors: Exploring gender role beliefs.  International Journal of Workplace Health Management, 13 (4), 413-425. https://doi.org/10.1108/IJWHM-06-2019-0089  Bakker, A. B., & Bal, P. M. (2010). Weekly work engagement and performance: A study among starting teachers. Journal of Occupational and Organizational Psychology, 83 (1), 189-206. https://doi.org/10.1348/096317909X402596  Balducci, C., Cecchin, M., Fraccaroli, F., & Schaufeli, W. B. (2012). Exploring the relationship between workaholism and workplace aggressive behaviour: The role of job-related emotion.  Personality and Individual Differences, 53(5), 629-634. https://doi.org/10.1016/j.paid.2012.05.004  Barbaranelli, C., Fida, R., & Gulandri, M. (2013). Assessing counterproductive work behavior: A study on the dimensionality of CWB-checklist . TMP-Testing, Psychometrics, Methodology in Applied Psychology, 20 (3), 235-248.  https://doi.org/10.4473/TPM20.3.3    \"\n",
      "AI:\n",
      "\n",
      "\u001b[0m\n",
      "\n",
      "\u001b[1m> Finished chain.\u001b[0m\n"
     ]
    }
   ],
   "source": [
    "answer = chain3.run('Can you format this reference? : \"Allen, T. D., & Rush, M. C. (2001). The influence of ratee gender on ratings of organizational citizenship behavior. Journal of 63 HWI, Servant Leadership, OCB and CWB in Italy Applied Social Psychology, 31 (12), 2561-2587.  https://doi.org/10.1111/j.1559-1816.2001.tb00191.x  Andreassen, C. S., Nielsen, M. B., Pallesen, S., & Gjerstad, J. (2019). The relationship between psychosocial work variables and workaholism: Findings from a nationally representative survey. International Journal of Stress Management, 26 (1), 1-10. https://doi.org/10.1037/str0000073   Aziz, S., Pittman, C., & Wuensch, K. (2020). Workaholism and organizational citizenship behaviors: Exploring gender role beliefs.  International Journal of Workplace Health Management, 13 (4), 413-425. https://doi.org/10.1108/IJWHM-06-2019-0089  Bakker, A. B., & Bal, P. M. (2010). Weekly work engagement and performance: A study among starting teachers. Journal of Occupational and Organizational Psychology, 83 (1), 189-206. https://doi.org/10.1348/096317909X402596  Balducci, C., Cecchin, M., Fraccaroli, F., & Schaufeli, W. B. (2012). Exploring the relationship between workaholism and workplace aggressive behaviour: The role of job-related emotion.  Personality and Individual Differences, 53(5), 629-634. https://doi.org/10.1016/j.paid.2012.05.004  Barbaranelli, C., Fida, R., & Gulandri, M. (2013). Assessing counterproductive work behavior: A study on the dimensionality of CWB-checklist . TMP-Testing, Psychometrics, Methodology in Applied Psychology, 20 (3), 235-248.  https://doi.org/10.4473/TPM20.3.3    \"')"
   ]
  },
  {
   "cell_type": "code",
   "execution_count": 33,
   "metadata": {},
   "outputs": [
    {
     "data": {
      "text/plain": [
       "'Sure! I can help you format the list of references into a JSON structure. Here\\'s an example output based on the information provided:\\n\\n{\\n    \"references\": [\\n        {\\n            \"id\": \"ref1\",\\n            \"title\": \"The influence of ratee gender on ratings of organizational citizenship behavior\",\\n            \"authors\": [\"Allen, T. D.\", \"Rush, M. C.\"],\\n            \"year\": 2001\\n        },\\n        {\\n            \"id\": \"ref2\",\\n            \"title\": \"The relationship between psychosocial work variables and workaholism: Findings from a nationally representative survey\",\\n            \"authors\": [\"Andreassen, C. S.\", \"Nielsen, M. B.\", \"Pallesen, S.\", \"Gjerstad, J.\"],\\n            \"year\": 2019\\n        },\\n        {\\n            \"id\": \"ref3\",\\n            \"title\": \"Workaholism and organizational citizenship behaviors: Exploring gender role beliefs\",\\n            \"authors\": [\"Aziz, S.\", \"Pittman, C.\", \"Wuensch, K.\"],\\n            \"year\": 2020\\n        },\\n        // Add more references here\\n    ]\\n}\\n\\nNote that I have used the same \"id\" field for each reference to ensure consistency across all entries. Also, I have included the authors\\' names in the \"authors\" field instead of just listing their last names as requested in the task description. Let me know if you need any further assistance!'"
      ]
     },
     "execution_count": 33,
     "metadata": {},
     "output_type": "execute_result"
    }
   ],
   "source": [
    "answer"
   ]
  },
  {
   "cell_type": "code",
   "execution_count": 37,
   "metadata": {},
   "outputs": [],
   "source": [
    "builder = Jsonformer(\n",
    "    model=model,\n",
    "    tokenizer=tokenizer,\n",
    "    json_schema=test,\n",
    "    prompt=answer)"
   ]
  },
  {
   "cell_type": "code",
   "execution_count": 38,
   "metadata": {},
   "outputs": [],
   "source": [
    "out = builder()"
   ]
  },
  {
   "cell_type": "code",
   "execution_count": 39,
   "metadata": {},
   "outputs": [
    {
     "data": {
      "text/plain": [
       "{'references': {'ref_id': 'ref1',\n",
       "  'title': 'The influence of ratee gender on ratings of organiz',\n",
       "  'author': 'Allen, T. D.',\n",
       "  'year': '2001'}}"
      ]
     },
     "execution_count": 39,
     "metadata": {},
     "output_type": "execute_result"
    }
   ],
   "source": [
    "out"
   ]
  },
  {
   "cell_type": "code",
   "execution_count": 34,
   "metadata": {},
   "outputs": [
    {
     "ename": "JSONDecodeError",
     "evalue": "Expecting value: line 1 column 1 (char 0)",
     "output_type": "error",
     "traceback": [
      "\u001b[0;31m---------------------------------------------------------------------------\u001b[0m",
      "\u001b[0;31mJSONDecodeError\u001b[0m                           Traceback (most recent call last)",
      "\u001b[1;32m/home/ubuntu/LLM-as-a-Service/fine-tuning/arxiv_reference_parsing.ipynb Cell 43\u001b[0m line \u001b[0;36m1\n\u001b[0;32m----> <a href='vscode-notebook-cell://ssh-remote%2B185.47.227.189/home/ubuntu/LLM-as-a-Service/fine-tuning/arxiv_reference_parsing.ipynb#X51sdnNjb2RlLXJlbW90ZQ%3D%3D?line=0'>1</a>\u001b[0m data \u001b[39m=\u001b[39m json\u001b[39m.\u001b[39;49mloads(answer)\n",
      "File \u001b[0;32m/usr/lib/python3.8/json/__init__.py:357\u001b[0m, in \u001b[0;36mloads\u001b[0;34m(s, cls, object_hook, parse_float, parse_int, parse_constant, object_pairs_hook, **kw)\u001b[0m\n\u001b[1;32m    352\u001b[0m     \u001b[39mdel\u001b[39;00m kw[\u001b[39m'\u001b[39m\u001b[39mencoding\u001b[39m\u001b[39m'\u001b[39m]\n\u001b[1;32m    354\u001b[0m \u001b[39mif\u001b[39;00m (\u001b[39mcls\u001b[39m \u001b[39mis\u001b[39;00m \u001b[39mNone\u001b[39;00m \u001b[39mand\u001b[39;00m object_hook \u001b[39mis\u001b[39;00m \u001b[39mNone\u001b[39;00m \u001b[39mand\u001b[39;00m\n\u001b[1;32m    355\u001b[0m         parse_int \u001b[39mis\u001b[39;00m \u001b[39mNone\u001b[39;00m \u001b[39mand\u001b[39;00m parse_float \u001b[39mis\u001b[39;00m \u001b[39mNone\u001b[39;00m \u001b[39mand\u001b[39;00m\n\u001b[1;32m    356\u001b[0m         parse_constant \u001b[39mis\u001b[39;00m \u001b[39mNone\u001b[39;00m \u001b[39mand\u001b[39;00m object_pairs_hook \u001b[39mis\u001b[39;00m \u001b[39mNone\u001b[39;00m \u001b[39mand\u001b[39;00m \u001b[39mnot\u001b[39;00m kw):\n\u001b[0;32m--> 357\u001b[0m     \u001b[39mreturn\u001b[39;00m _default_decoder\u001b[39m.\u001b[39;49mdecode(s)\n\u001b[1;32m    358\u001b[0m \u001b[39mif\u001b[39;00m \u001b[39mcls\u001b[39m \u001b[39mis\u001b[39;00m \u001b[39mNone\u001b[39;00m:\n\u001b[1;32m    359\u001b[0m     \u001b[39mcls\u001b[39m \u001b[39m=\u001b[39m JSONDecoder\n",
      "File \u001b[0;32m/usr/lib/python3.8/json/decoder.py:337\u001b[0m, in \u001b[0;36mJSONDecoder.decode\u001b[0;34m(self, s, _w)\u001b[0m\n\u001b[1;32m    332\u001b[0m \u001b[39mdef\u001b[39;00m \u001b[39mdecode\u001b[39m(\u001b[39mself\u001b[39m, s, _w\u001b[39m=\u001b[39mWHITESPACE\u001b[39m.\u001b[39mmatch):\n\u001b[1;32m    333\u001b[0m \u001b[39m    \u001b[39m\u001b[39m\"\"\"Return the Python representation of ``s`` (a ``str`` instance\u001b[39;00m\n\u001b[1;32m    334\u001b[0m \u001b[39m    containing a JSON document).\u001b[39;00m\n\u001b[1;32m    335\u001b[0m \n\u001b[1;32m    336\u001b[0m \u001b[39m    \"\"\"\u001b[39;00m\n\u001b[0;32m--> 337\u001b[0m     obj, end \u001b[39m=\u001b[39m \u001b[39mself\u001b[39;49m\u001b[39m.\u001b[39;49mraw_decode(s, idx\u001b[39m=\u001b[39;49m_w(s, \u001b[39m0\u001b[39;49m)\u001b[39m.\u001b[39;49mend())\n\u001b[1;32m    338\u001b[0m     end \u001b[39m=\u001b[39m _w(s, end)\u001b[39m.\u001b[39mend()\n\u001b[1;32m    339\u001b[0m     \u001b[39mif\u001b[39;00m end \u001b[39m!=\u001b[39m \u001b[39mlen\u001b[39m(s):\n",
      "File \u001b[0;32m/usr/lib/python3.8/json/decoder.py:355\u001b[0m, in \u001b[0;36mJSONDecoder.raw_decode\u001b[0;34m(self, s, idx)\u001b[0m\n\u001b[1;32m    353\u001b[0m     obj, end \u001b[39m=\u001b[39m \u001b[39mself\u001b[39m\u001b[39m.\u001b[39mscan_once(s, idx)\n\u001b[1;32m    354\u001b[0m \u001b[39mexcept\u001b[39;00m \u001b[39mStopIteration\u001b[39;00m \u001b[39mas\u001b[39;00m err:\n\u001b[0;32m--> 355\u001b[0m     \u001b[39mraise\u001b[39;00m JSONDecodeError(\u001b[39m\"\u001b[39m\u001b[39mExpecting value\u001b[39m\u001b[39m\"\u001b[39m, s, err\u001b[39m.\u001b[39mvalue) \u001b[39mfrom\u001b[39;00m \u001b[39mNone\u001b[39;00m\n\u001b[1;32m    356\u001b[0m \u001b[39mreturn\u001b[39;00m obj, end\n",
      "\u001b[0;31mJSONDecodeError\u001b[0m: Expecting value: line 1 column 1 (char 0)"
     ]
    }
   ],
   "source": [
    "data = json.loads(answer)"
   ]
  },
  {
   "cell_type": "code",
   "execution_count": 98,
   "metadata": {},
   "outputs": [],
   "source": [
    "builder = Jsonformer(\n",
    "    model=model,\n",
    "    tokenizer=tokenizer,\n",
    "    json_schema=test,\n",
    "    prompt=answer)"
   ]
  },
  {
   "cell_type": "code",
   "execution_count": null,
   "metadata": {},
   "outputs": [],
   "source": []
  },
  {
   "cell_type": "code",
   "execution_count": 99,
   "metadata": {},
   "outputs": [],
   "source": [
    "out = builder()"
   ]
  },
  {
   "cell_type": "code",
   "execution_count": 100,
   "metadata": {},
   "outputs": [
    {
     "data": {
      "text/plain": [
       "{'references': {'ref_id': 'ref1',\n",
       "  'title': 'Title of the first paper',\n",
       "  'author': 'Allen, Rush',\n",
       "  'year': '2001'}}"
      ]
     },
     "execution_count": 100,
     "metadata": {},
     "output_type": "execute_result"
    }
   ],
   "source": [
    "out"
   ]
  },
  {
   "cell_type": "code",
   "execution_count": 89,
   "metadata": {},
   "outputs": [
    {
     "name": "stdout",
     "output_type": "stream",
     "text": [
      "{\n",
      "  ref: {\n",
      "    title: \u001b[32m\"Allen, T. D., & Rush\"\u001b[0m,\n",
      "    author: \u001b[32m\"Allen, T. D., & Rush\"\u001b[0m,\n",
      "    year: \u001b[32m\"2001\"\u001b[0m\n",
      "  }\n",
      "}\n"
     ]
    }
   ],
   "source": [
    "highlight_values(output)"
   ]
  },
  {
   "cell_type": "code",
   "execution_count": 96,
   "metadata": {},
   "outputs": [
    {
     "name": "stdout",
     "output_type": "stream",
     "text": [
      "{\n",
      "    \"references\": []\n",
      "}\n"
     ]
    }
   ],
   "source": [
    "parsed_data = []\n",
    "for line in answer.split('\\n'):\n",
    "    if line.startswith('ref1'):\n",
    "        parts = line.split(',')\n",
    "        ref_id = parts[0].split(':')[0].strip()\n",
    "        title = parts[0].split(':')[1].strip()\n",
    "        authors = parts[1].split(':')[1].replace('[', '').replace(']', '').strip().split(' ')\n",
    "        year = int(parts[2].split(':')[1].strip())\n",
    "        \n",
    "        parsed_data.append({\n",
    "            \"ref_id\": ref_id,\n",
    "            \"title\": title,\n",
    "            \"authors\": authors,\n",
    "            \"year\": year\n",
    "        })\n",
    "\n",
    "# Convert to JSON\n",
    "json_output = json.dumps({\"references\": parsed_data}, indent=4)\n",
    "\n",
    "print(json_output)"
   ]
  },
  {
   "cell_type": "code",
   "execution_count": 89,
   "metadata": {},
   "outputs": [
    {
     "ename": "TypeError",
     "evalue": "string indices must be integers",
     "output_type": "error",
     "traceback": [
      "\u001b[0;31m---------------------------------------------------------------------------\u001b[0m",
      "\u001b[0;31mTypeError\u001b[0m                                 Traceback (most recent call last)",
      "\u001b[1;32m/home/ubuntu/LLM-as-a-Service/fine-tuning/arxiv_reference_parsing.ipynb Cell 23\u001b[0m line \u001b[0;36m1\n\u001b[0;32m----> <a href='vscode-notebook-cell://ssh-remote%2B185.47.227.189/home/ubuntu/LLM-as-a-Service/fine-tuning/arxiv_reference_parsing.ipynb#X46sdnNjb2RlLXJlbW90ZQ%3D%3D?line=0'>1</a>\u001b[0m answer[\u001b[39m'\u001b[39;49m\u001b[39mreferences\u001b[39;49m\u001b[39m'\u001b[39;49m]\n",
      "\u001b[0;31mTypeError\u001b[0m: string indices must be integers"
     ]
    }
   ],
   "source": [
    "answer['references']"
   ]
  },
  {
   "cell_type": "code",
   "execution_count": 92,
   "metadata": {},
   "outputs": [
    {
     "ename": "ValueError",
     "evalue": "not enough values to unpack (expected 2, got 1)",
     "output_type": "error",
     "traceback": [
      "\u001b[0;31m---------------------------------------------------------------------------\u001b[0m",
      "\u001b[0;31mValueError\u001b[0m                                Traceback (most recent call last)",
      "\u001b[1;32m/home/ubuntu/LLM-as-a-Service/fine-tuning/arxiv_reference_parsing.ipynb Cell 24\u001b[0m line \u001b[0;36m1\n\u001b[0;32m----> <a href='vscode-notebook-cell://ssh-remote%2B185.47.227.189/home/ubuntu/LLM-as-a-Service/fine-tuning/arxiv_reference_parsing.ipynb#X45sdnNjb2RlLXJlbW90ZQ%3D%3D?line=0'>1</a>\u001b[0m \u001b[39mfor\u001b[39;00m ref, i \u001b[39min\u001b[39;00m answer:\n\u001b[1;32m      <a href='vscode-notebook-cell://ssh-remote%2B185.47.227.189/home/ubuntu/LLM-as-a-Service/fine-tuning/arxiv_reference_parsing.ipynb#X45sdnNjb2RlLXJlbW90ZQ%3D%3D?line=1'>2</a>\u001b[0m     \u001b[39mprint\u001b[39m(\u001b[39m'\u001b[39m\u001b[39mtest\u001b[39m\u001b[39m'\u001b[39m)\n",
      "\u001b[0;31mValueError\u001b[0m: not enough values to unpack (expected 2, got 1)"
     ]
    }
   ],
   "source": [
    "for i in answer:\n",
    "    print('test')"
   ]
  },
  {
   "cell_type": "code",
   "execution_count": 75,
   "metadata": {},
   "outputs": [
    {
     "data": {
      "text/plain": [
       "' ```json\\n{\\n\"message\": \"Here are the references :)\",\\n\"references\": [\\n{\\n\"ref_id\": \"ref1\",\\n\"title\": \"Title of the first paper\",\\n\"authors\": [\"Allen\", \"Rush\"],\\n\"year\": 2001\\n},\\n{\\n\"ref_id\": \"ref2\",\\n\"title\": \"Title of the second paper\",\\n\"authors\": [\"Aziz\", \"Pittman\", \"Wuensch\"],\\n\"year\": 2020\\n},\\n{\\n\"ref_id\": \"ref3\",\\n\"title\": \"Title of the third paper\",\\n\"authors\": [\"Balducci\", \"Cecchin\", \"Fraccaroli\", \"Schaufeli\"],\\n\"year\": 2012\\n}\\n]\\n}\\n```'"
      ]
     },
     "execution_count": 75,
     "metadata": {},
     "output_type": "execute_result"
    }
   ],
   "source": [
    "answer.replace(\"  \", \"\")"
   ]
  },
  {
   "cell_type": "code",
   "execution_count": 78,
   "metadata": {},
   "outputs": [],
   "source": [
    "import json\n",
    "from pathlib import Path\n",
    "from pprint import pprint"
   ]
  },
  {
   "cell_type": "code",
   "execution_count": 91,
   "metadata": {},
   "outputs": [
    {
     "ename": "JSONDecodeError",
     "evalue": "Expecting value: line 1 column 2 (char 1)",
     "output_type": "error",
     "traceback": [
      "\u001b[0;31m---------------------------------------------------------------------------\u001b[0m",
      "\u001b[0;31mJSONDecodeError\u001b[0m                           Traceback (most recent call last)",
      "\u001b[1;32m/home/ubuntu/LLM-as-a-Service/fine-tuning/arxiv_reference_parsing.ipynb Cell 27\u001b[0m line \u001b[0;36m1\n\u001b[0;32m----> <a href='vscode-notebook-cell://ssh-remote%2B185.47.227.189/home/ubuntu/LLM-as-a-Service/fine-tuning/arxiv_reference_parsing.ipynb#X50sdnNjb2RlLXJlbW90ZQ%3D%3D?line=0'>1</a>\u001b[0m data \u001b[39m=\u001b[39m json\u001b[39m.\u001b[39;49mloads(answer)\n\u001b[1;32m      <a href='vscode-notebook-cell://ssh-remote%2B185.47.227.189/home/ubuntu/LLM-as-a-Service/fine-tuning/arxiv_reference_parsing.ipynb#X50sdnNjb2RlLXJlbW90ZQ%3D%3D?line=2'>3</a>\u001b[0m \u001b[39m# Now you can iterate over the 'references' array\u001b[39;00m\n\u001b[1;32m      <a href='vscode-notebook-cell://ssh-remote%2B185.47.227.189/home/ubuntu/LLM-as-a-Service/fine-tuning/arxiv_reference_parsing.ipynb#X50sdnNjb2RlLXJlbW90ZQ%3D%3D?line=3'>4</a>\u001b[0m \u001b[39mfor\u001b[39;00m ref \u001b[39min\u001b[39;00m data[\u001b[39m'\u001b[39m\u001b[39mreferences\u001b[39m\u001b[39m'\u001b[39m]:\n",
      "File \u001b[0;32m/usr/lib/python3.8/json/__init__.py:357\u001b[0m, in \u001b[0;36mloads\u001b[0;34m(s, cls, object_hook, parse_float, parse_int, parse_constant, object_pairs_hook, **kw)\u001b[0m\n\u001b[1;32m    352\u001b[0m     \u001b[39mdel\u001b[39;00m kw[\u001b[39m'\u001b[39m\u001b[39mencoding\u001b[39m\u001b[39m'\u001b[39m]\n\u001b[1;32m    354\u001b[0m \u001b[39mif\u001b[39;00m (\u001b[39mcls\u001b[39m \u001b[39mis\u001b[39;00m \u001b[39mNone\u001b[39;00m \u001b[39mand\u001b[39;00m object_hook \u001b[39mis\u001b[39;00m \u001b[39mNone\u001b[39;00m \u001b[39mand\u001b[39;00m\n\u001b[1;32m    355\u001b[0m         parse_int \u001b[39mis\u001b[39;00m \u001b[39mNone\u001b[39;00m \u001b[39mand\u001b[39;00m parse_float \u001b[39mis\u001b[39;00m \u001b[39mNone\u001b[39;00m \u001b[39mand\u001b[39;00m\n\u001b[1;32m    356\u001b[0m         parse_constant \u001b[39mis\u001b[39;00m \u001b[39mNone\u001b[39;00m \u001b[39mand\u001b[39;00m object_pairs_hook \u001b[39mis\u001b[39;00m \u001b[39mNone\u001b[39;00m \u001b[39mand\u001b[39;00m \u001b[39mnot\u001b[39;00m kw):\n\u001b[0;32m--> 357\u001b[0m     \u001b[39mreturn\u001b[39;00m _default_decoder\u001b[39m.\u001b[39;49mdecode(s)\n\u001b[1;32m    358\u001b[0m \u001b[39mif\u001b[39;00m \u001b[39mcls\u001b[39m \u001b[39mis\u001b[39;00m \u001b[39mNone\u001b[39;00m:\n\u001b[1;32m    359\u001b[0m     \u001b[39mcls\u001b[39m \u001b[39m=\u001b[39m JSONDecoder\n",
      "File \u001b[0;32m/usr/lib/python3.8/json/decoder.py:337\u001b[0m, in \u001b[0;36mJSONDecoder.decode\u001b[0;34m(self, s, _w)\u001b[0m\n\u001b[1;32m    332\u001b[0m \u001b[39mdef\u001b[39;00m \u001b[39mdecode\u001b[39m(\u001b[39mself\u001b[39m, s, _w\u001b[39m=\u001b[39mWHITESPACE\u001b[39m.\u001b[39mmatch):\n\u001b[1;32m    333\u001b[0m \u001b[39m    \u001b[39m\u001b[39m\"\"\"Return the Python representation of ``s`` (a ``str`` instance\u001b[39;00m\n\u001b[1;32m    334\u001b[0m \u001b[39m    containing a JSON document).\u001b[39;00m\n\u001b[1;32m    335\u001b[0m \n\u001b[1;32m    336\u001b[0m \u001b[39m    \"\"\"\u001b[39;00m\n\u001b[0;32m--> 337\u001b[0m     obj, end \u001b[39m=\u001b[39m \u001b[39mself\u001b[39;49m\u001b[39m.\u001b[39;49mraw_decode(s, idx\u001b[39m=\u001b[39;49m_w(s, \u001b[39m0\u001b[39;49m)\u001b[39m.\u001b[39;49mend())\n\u001b[1;32m    338\u001b[0m     end \u001b[39m=\u001b[39m _w(s, end)\u001b[39m.\u001b[39mend()\n\u001b[1;32m    339\u001b[0m     \u001b[39mif\u001b[39;00m end \u001b[39m!=\u001b[39m \u001b[39mlen\u001b[39m(s):\n",
      "File \u001b[0;32m/usr/lib/python3.8/json/decoder.py:355\u001b[0m, in \u001b[0;36mJSONDecoder.raw_decode\u001b[0;34m(self, s, idx)\u001b[0m\n\u001b[1;32m    353\u001b[0m     obj, end \u001b[39m=\u001b[39m \u001b[39mself\u001b[39m\u001b[39m.\u001b[39mscan_once(s, idx)\n\u001b[1;32m    354\u001b[0m \u001b[39mexcept\u001b[39;00m \u001b[39mStopIteration\u001b[39;00m \u001b[39mas\u001b[39;00m err:\n\u001b[0;32m--> 355\u001b[0m     \u001b[39mraise\u001b[39;00m JSONDecodeError(\u001b[39m\"\u001b[39m\u001b[39mExpecting value\u001b[39m\u001b[39m\"\u001b[39m, s, err\u001b[39m.\u001b[39mvalue) \u001b[39mfrom\u001b[39;00m \u001b[39mNone\u001b[39;00m\n\u001b[1;32m    356\u001b[0m \u001b[39mreturn\u001b[39;00m obj, end\n",
      "\u001b[0;31mJSONDecodeError\u001b[0m: Expecting value: line 1 column 2 (char 1)"
     ]
    }
   ],
   "source": [
    "data = json.loads(answer)\n",
    "\n",
    "# Now you can iterate over the 'references' array\n",
    "for ref in data['references']:\n",
    "    print('test')"
   ]
  },
  {
   "cell_type": "code",
   "execution_count": 77,
   "metadata": {},
   "outputs": [],
   "source": [
    "json_data = json.dumps(answer, indent=4)\n",
    "\n",
    "# Write the JSON data to a file\n",
    "with open('data.json', 'w') as file:\n",
    "    file.write(json_data)"
   ]
  },
  {
   "cell_type": "code",
   "execution_count": 90,
   "metadata": {},
   "outputs": [],
   "source": [
    "with open('output.json', 'w', encoding='utf-8') as f:\n",
    "    json.dump(answer, f, ensure_ascii=False, indent=4)"
   ]
  },
  {
   "cell_type": "code",
   "execution_count": 82,
   "metadata": {},
   "outputs": [],
   "source": [
    "data = json.loads(Path('./output.json').read_text())"
   ]
  },
  {
   "cell_type": "code",
   "execution_count": 83,
   "metadata": {},
   "outputs": [
    {
     "data": {
      "text/plain": [
       "' ```json\\n{\\n  \"message\": \"Here are the references :)\",\\n  \"references\": [\\n    {\\n      \"ref_id\": \"ref1\",\\n      \"title\": \"Title of the first paper\",\\n      \"authors\": [\"Allen\", \"Rush\"],\\n      \"year\": 2001\\n    },\\n    {\\n      \"ref_id\": \"ref2\",\\n      \"title\": \"Title of the second paper\",\\n      \"authors\": [\"Aziz\", \"Pittman\", \"Wuensch\"],\\n      \"year\": 2020\\n    },\\n    {\\n      \"ref_id\": \"ref3\",\\n      \"title\": \"Title of the third paper\",\\n      \"authors\": [\"Balducci\", \"Cecchin\", \"Fraccaroli\", \"Schaufeli\"],\\n      \"year\": 2012\\n    }\\n  ]\\n}\\n```'"
      ]
     },
     "execution_count": 83,
     "metadata": {},
     "output_type": "execute_result"
    }
   ],
   "source": [
    "data"
   ]
  },
  {
   "cell_type": "code",
   "execution_count": 58,
   "metadata": {},
   "outputs": [
    {
     "data": {
      "text/plain": [
       "' ```json\\n{\\n  \"message\": \"Here are the references :)\",\\n  \"references\": [\\n    {\\n      \"ref_id\": \"ref1\",\\n      \"title\": \"Title of the first paper\",\\n      \"authors\": [\"Allen\", \"Rush\"],\\n      \"year\": 2001\\n    },\\n    {\\n      \"ref_id\": \"ref2\",\\n      \"title\": \"Title of the second paper\",\\n      \"authors\": [\"Aziz\", \"Pittman\", \"Wuensch\"],\\n      \"year\": 2020\\n    },\\n    {\\n      \"ref_id\": \"ref3\",\\n      \"title\": \"Title of the third paper\",\\n      \"authors\": [\"Balducci\", \"Cecchin\", \"Fraccaroli\", \"Schaufeli\"],\\n      \"year\": 2012\\n    }\\n  ]\\n}\\n```'"
      ]
     },
     "execution_count": 58,
     "metadata": {},
     "output_type": "execute_result"
    }
   ],
   "source": [
    "answer"
   ]
  },
  {
   "cell_type": "code",
   "execution_count": 59,
   "metadata": {},
   "outputs": [
    {
     "ename": "JSONDecodeError",
     "evalue": "Expecting value: line 1 column 2 (char 1)",
     "output_type": "error",
     "traceback": [
      "\u001b[0;31m---------------------------------------------------------------------------\u001b[0m",
      "\u001b[0;31mJSONDecodeError\u001b[0m                           Traceback (most recent call last)",
      "\u001b[1;32m/home/ubuntu/LLM-as-a-Service/fine-tuning/arxiv_reference_parsing.ipynb Cell 23\u001b[0m line \u001b[0;36m1\n\u001b[0;32m----> <a href='vscode-notebook-cell://ssh-remote%2B185.47.227.189/home/ubuntu/LLM-as-a-Service/fine-tuning/arxiv_reference_parsing.ipynb#X33sdnNjb2RlLXJlbW90ZQ%3D%3D?line=0'>1</a>\u001b[0m data \u001b[39m=\u001b[39m json\u001b[39m.\u001b[39;49mloads(answer)\n",
      "File \u001b[0;32m/usr/lib/python3.8/json/__init__.py:357\u001b[0m, in \u001b[0;36mloads\u001b[0;34m(s, cls, object_hook, parse_float, parse_int, parse_constant, object_pairs_hook, **kw)\u001b[0m\n\u001b[1;32m    352\u001b[0m     \u001b[39mdel\u001b[39;00m kw[\u001b[39m'\u001b[39m\u001b[39mencoding\u001b[39m\u001b[39m'\u001b[39m]\n\u001b[1;32m    354\u001b[0m \u001b[39mif\u001b[39;00m (\u001b[39mcls\u001b[39m \u001b[39mis\u001b[39;00m \u001b[39mNone\u001b[39;00m \u001b[39mand\u001b[39;00m object_hook \u001b[39mis\u001b[39;00m \u001b[39mNone\u001b[39;00m \u001b[39mand\u001b[39;00m\n\u001b[1;32m    355\u001b[0m         parse_int \u001b[39mis\u001b[39;00m \u001b[39mNone\u001b[39;00m \u001b[39mand\u001b[39;00m parse_float \u001b[39mis\u001b[39;00m \u001b[39mNone\u001b[39;00m \u001b[39mand\u001b[39;00m\n\u001b[1;32m    356\u001b[0m         parse_constant \u001b[39mis\u001b[39;00m \u001b[39mNone\u001b[39;00m \u001b[39mand\u001b[39;00m object_pairs_hook \u001b[39mis\u001b[39;00m \u001b[39mNone\u001b[39;00m \u001b[39mand\u001b[39;00m \u001b[39mnot\u001b[39;00m kw):\n\u001b[0;32m--> 357\u001b[0m     \u001b[39mreturn\u001b[39;00m _default_decoder\u001b[39m.\u001b[39;49mdecode(s)\n\u001b[1;32m    358\u001b[0m \u001b[39mif\u001b[39;00m \u001b[39mcls\u001b[39m \u001b[39mis\u001b[39;00m \u001b[39mNone\u001b[39;00m:\n\u001b[1;32m    359\u001b[0m     \u001b[39mcls\u001b[39m \u001b[39m=\u001b[39m JSONDecoder\n",
      "File \u001b[0;32m/usr/lib/python3.8/json/decoder.py:337\u001b[0m, in \u001b[0;36mJSONDecoder.decode\u001b[0;34m(self, s, _w)\u001b[0m\n\u001b[1;32m    332\u001b[0m \u001b[39mdef\u001b[39;00m \u001b[39mdecode\u001b[39m(\u001b[39mself\u001b[39m, s, _w\u001b[39m=\u001b[39mWHITESPACE\u001b[39m.\u001b[39mmatch):\n\u001b[1;32m    333\u001b[0m \u001b[39m    \u001b[39m\u001b[39m\"\"\"Return the Python representation of ``s`` (a ``str`` instance\u001b[39;00m\n\u001b[1;32m    334\u001b[0m \u001b[39m    containing a JSON document).\u001b[39;00m\n\u001b[1;32m    335\u001b[0m \n\u001b[1;32m    336\u001b[0m \u001b[39m    \"\"\"\u001b[39;00m\n\u001b[0;32m--> 337\u001b[0m     obj, end \u001b[39m=\u001b[39m \u001b[39mself\u001b[39;49m\u001b[39m.\u001b[39;49mraw_decode(s, idx\u001b[39m=\u001b[39;49m_w(s, \u001b[39m0\u001b[39;49m)\u001b[39m.\u001b[39;49mend())\n\u001b[1;32m    338\u001b[0m     end \u001b[39m=\u001b[39m _w(s, end)\u001b[39m.\u001b[39mend()\n\u001b[1;32m    339\u001b[0m     \u001b[39mif\u001b[39;00m end \u001b[39m!=\u001b[39m \u001b[39mlen\u001b[39m(s):\n",
      "File \u001b[0;32m/usr/lib/python3.8/json/decoder.py:355\u001b[0m, in \u001b[0;36mJSONDecoder.raw_decode\u001b[0;34m(self, s, idx)\u001b[0m\n\u001b[1;32m    353\u001b[0m     obj, end \u001b[39m=\u001b[39m \u001b[39mself\u001b[39m\u001b[39m.\u001b[39mscan_once(s, idx)\n\u001b[1;32m    354\u001b[0m \u001b[39mexcept\u001b[39;00m \u001b[39mStopIteration\u001b[39;00m \u001b[39mas\u001b[39;00m err:\n\u001b[0;32m--> 355\u001b[0m     \u001b[39mraise\u001b[39;00m JSONDecodeError(\u001b[39m\"\u001b[39m\u001b[39mExpecting value\u001b[39m\u001b[39m\"\u001b[39m, s, err\u001b[39m.\u001b[39mvalue) \u001b[39mfrom\u001b[39;00m \u001b[39mNone\u001b[39;00m\n\u001b[1;32m    356\u001b[0m \u001b[39mreturn\u001b[39;00m obj, end\n",
      "\u001b[0;31mJSONDecodeError\u001b[0m: Expecting value: line 1 column 2 (char 1)"
     ]
    }
   ],
   "source": [
    "data = json.loads(answer)"
   ]
  },
  {
   "cell_type": "markdown",
   "metadata": {},
   "source": [
    "## Parsing only the reference page:"
   ]
  },
  {
   "cell_type": "code",
   "execution_count": 20,
   "metadata": {},
   "outputs": [
    {
     "name": "stdout",
     "output_type": "stream",
     "text": [
      "huggingface/tokenizers: The current process just got forked, after parallelism has already been used. Disabling parallelism to avoid deadlocks...\n",
      "To disable this warning, you can either:\n",
      "\t- Avoid using `tokenizers` before the fork if possible\n",
      "\t- Explicitly set the environment variable TOKENIZERS_PARALLELISM=(true | false)\n",
      "\n",
      "Allen, T. D., & Rush, M. C. (2001). The influence of ratee gender \n",
      "on ratings of organizational citizenship behavior. Journal of 63\n",
      "HWI, Servant Leadership, OCB and CWB in Italy\n",
      "Applied Social Psychology, 31 (12), 2561-2587.  https://doi.\n",
      "org/10.1111/j.1559-1816.2001.tb00191.x  \n",
      "Andreassen, C. S., Nielsen, M. B., Pallesen, S., & Gjerstad, J. (2019). The \n",
      "relationship between psychosocial work variables and workaholism: \n",
      "Findings from a nationally representative survey. International Journal \n",
      "of Stress Management, 26 (1), 1-10. https://doi.org/10.1037/str0000073   \n",
      "Aziz, S., Pittman, C., & Wuensch, K. (2020). Workaholism and organizational \n",
      "citizenship behaviors: Exploring gender role beliefs.  International \n",
      "Journal of Workplace Health Management, 13 (4), 413-425. https://doi.\n",
      "org/10.1108/IJWHM-06-2019-0089  \n",
      "Bakker, A. B., & Bal, P. M. (2010). Weekly work engagement and performance: A \n",
      "study among starting teachers. Journal of Occupational and Organizational \n",
      "Psychology, 83 (1), 189-206. https://doi.org/10.1348/096317909X402596  \n",
      "Balducci, C., Cecchin, M., Fraccaroli, F., & Schaufeli, W. B. (2012). Exploring the \n",
      "relationship between workaholism and workplace aggressive behaviour: \n",
      "The role of job-related emotion.  Personality and Individual Differences, \n",
      "53(5), 629-634. https://doi.org/10.1016/j.paid.2012.05.004  \n",
      "Barbaranelli, C., Fida, R., & Gulandri, M. (2013). Assessing counterproductive \n",
      "work behavior: A study on the dimensionality of CWB-checklist . TMP-\n",
      "Testing, Psychometrics, Methodology in Applied Psychology, 20 (3), 235-\n",
      "248.  https://doi.org/10.4473/TPM20.3.3  \n",
      "Beauregard, T.  A. (2012). Perfectionism, self-efficacy and OCB: The \n",
      "moderating role of gender. Personnel Review , 41(5), 590-608.  https://\n",
      "doi.org/10.1108/00483481211249120  \n",
      "Bentler, P. M., & Wu, E. J. (2005). EQS 6.1 for Windows: Structural equations \n",
      "program manual . Multivariate Software.\n",
      "Birkeland, I. K., & Buch, R. (2015). The dualistic model of passion for work: \n",
      "Discriminative and predictive validity with work engagement and \n",
      "workaholism. Motivation and Emotion, 39 (3), 392-408. https://doi.\n",
      "org/10.1007/s11031-014-9462-x  \n",
      "Borman, W. C., & Motowidlo, S. J. (1993). Expanding the criterion domain to \n",
      "include elements of contextual performance. In N. Schmitt & W. C. Borman \n",
      "(Eds.),  Personnel selection in organizations (pp. 71–98). Jossey-Bass.\n",
      "Bowling, N. A., & Eschleman, K. J. (2010). Employee personality as a moderator \n",
      "of the relationships between work stressors and counterproductive work \n",
      "behavior. Journal of Occupational Health Psychology, 15 (1), 91-103. \n",
      "https://doi.org/10.1037/a0017326\n",
      "Bruk-Lee, V., & Spector, P. (2006). The social stressors-counterproductive work \n",
      "behaviors link: Are conflicts with supervisors and coworkers the same? \n",
      "Journal of Occupational Health Psychology, 11 (2), 145-156. https://doi.\n",
      "org/10.1037/1076- 8998.11.2.145  \n",
      "Byrne, B. M. (2010). Structural equation modeling with AMOS: Basic concepts, \n",
      "applications, and programming  (2nd ed.). Routledge.\n",
      "Chappell, D., & Di Martino, V. (2006).  Violence at work (3rd ed.). International \n",
      "Labour Organization.\n",
      "Choi, Y. (2013). The differences between work engagement and workaholism, \n",
      "and organizational outcomes: An integrative model. Social Behavior \n",
      "and Personality, 41 (10), 1655-1666. https://doi.org/10.2224/\n",
      "sbp.2013.41.10.1655\n",
      "Dalal, R. S. (2005). A meta-analysis of the relationship between organizational \n",
      "citizenship behavior and counterproductive work behavior. Journal of \n",
      "Applied Psychology, 90 (6), 1241-1255. https://doi.org/10.1037/0021-\n",
      "9010.90.6.1241  \n",
      "Eagly, A. H. (1987). Sex differences in social behavior: A social role \n",
      "interpretation . Erlbaum.\n",
      "Eagly, A., Karau, S. J., & Makajhani, M. G. (1995). Gender and the effectiveness \n",
      "of leaders: A meta-analysis. Psychological Bulletin, 117 (1), 125-145.  \n",
      "https://doi.org/10.1037/0033-2909.117.1.125  \n",
      "Ehrhart, M. G. (2004). Leadership and procedural justice climate as \n",
      "antecedents of unit-level organizational citizenship behavior.  Personnel \n",
      "Psychology, 57 (1), 61-94.  https://doi.org/10.1111/j.1744-6570.2004.\n",
      "tb02484.x  \n",
      "Endriulaitien , A., & Morkevi it, M. (2020). The unintended effect of \n",
      "perceived transformational leadership style on workaholism: The \n",
      "mediating role of work motivation. The Journal of Psychology, 154 (6), \n",
      "446-465. https://doi.org/10.1080/00223980.2020.1776203  \n",
      "Farrell, S. K., & Finkelstein, L. M. (2007). Organizational citizenship behavior \n",
      "and gender: Expectations and attributions for performance. North \n",
      "American Journal of Psychology, 9 (1), 81-96.\n",
      "Fida, R., Paciello, M., Barbaranelli, C., Tramontano, C., & Griffith Fontaine, \n",
      "R. (2014). The role of irritability in the relation between job stressors, \n",
      "emotional reactivity, and counterproductive work behaviour . European \n",
      "Journal of Work and Organizational Psychology, 23 (1), 31-47. https://doi.\n",
      "org/10.1080/1359432X.2012.713550\n",
      "Fox, S., Spector, P. E., & Miles, D. (2001). Counterproductive work behavior \n",
      "(CWB) in response to job stressors and organizational justice: Some \n",
      "mediator and moderator tests for autonomy and emotions. Journal \n",
      "of Vocational Behavior, 59 (3), 291-309. https://doi.org/10.1006/\n",
      "jvbe.2001.1803\n",
      "Giannini, M., & Loscalzo, Y. (2016). Workaholism: Health risk and prevention \n",
      "in the organizations. In A. di Fabio (Ed.), Neuroticism: Characteristics, \n",
      "impact on job performance and health outcomes (pp. 49-60). Nova \n",
      "Science Publishers.\n",
      "Graham, J. W. (1991). Servant-leadership in organizations: Inspirational \n",
      "and moral. The Leadership Quarterly, 2 (2), 105-119.  https://doi.\n",
      "org/10.1016/1048-9843(91)90025-WGreenleaf, R. K. (1977).  Servant-leadership: A journey into the nature of \n",
      "legitimate power and greatness . Paulist Press.\n",
      "Gruys, M. L., & Sackett, P. R. (2003). Investigating the dimensionality of \n",
      "counterproductive work behavior.  International Journal of Selection \n",
      "and Assessment, 11 (1), 30-41. https://doi.org/10.1111/1468-2389.00224\n",
      "Heymans, M. W., & Eekhout, I. (2019). Applied missing data analysis with \n",
      "SPSS and ®Studio. https://bookdown.org/mwheymans/bookmi\n",
      "Hofstede, G. (1980). Culture’s consequences: International differences in \n",
      "work-related values.  SAGE.\n",
      "Hofstede, G. (1991). Cultures and organization: Software of the mind. \n",
      "McGraw-Hill.\n",
      "Hu, L. T., & Bentler, P. M. (1999). Cut-off criteria for fit indexes in covariance \n",
      "structure analysis: Conventional criteria versus new alternatives. \n",
      "Structural Equation Modeling: A Multidisciplinary Journal, 6 (1), 1-55. \n",
      "https://doi.org/10.1080/10705519909540118\n",
      "James, L. R., Mulaik, S. A., & Brett, J. M. (1982). Conditions for confirmatory \n",
      "analysis and causal inference. SAGE.\n",
      "Judge, T. A., Scott, B. A., & Ilies, R. (2006). Hostility, job attitudes, and \n",
      "workplace deviance: Test of a multilevel model. Journal of Applied \n",
      "Psychology, 91 (1), 126-138. https://doi.org/10.1037/0021-9010.91.1.126\n",
      "Jung, C. G. (1928/1989). L’io e l’inconscio  [The ego and the unconscious] \n",
      "(A. Vita., Trans.). Universale Scientifica Boringhieri (Original work \n",
      "published in 1928).\n",
      "Jung, C. G. (1964/1980). L’uomo e i suoi simboli [The man and his symbols]. \n",
      "Longanesi (Original work published in 1964).\n",
      "Lee, K., & Allen, N. J. (2002). Organizational citizenship behavior and \n",
      "workplace deviance: The role of affect and cognition.  Journal of Applied \n",
      "Psychology, 87 (1), 131-142. https://doi.org/10.1037/0021-9010.87.1.131\n",
      "LePine, J. A., Erez, A., & Johnson, D. E. (2002). The nature and dimensionality \n",
      "of organizational citizenship behavior: A critical review and meta-\n",
      "analysis. Journal of Applied Psychology, 87 (1), 52-65. https://doi.\n",
      "org/10.1037/0021-9010.87.1.52\n",
      "Loscalzo, Y. (2021). The impact of workaholism and work engagement \n",
      "on distant learning and work–family conflict during the COVID-19 \n",
      "lockdown. Amfiteatru Economic, 23 (58), 752-769. https://doi.\n",
      "org/10.24818/EA/2021/58/752\n",
      "Loscalzo, Y., & Giannini, M. (2017). Clinical conceptualization of \n",
      "workaholism: A comprehensive model. Organizational Psychology \n",
      "Review, 7 (4), 306-329. https://doi.org/10.1177/2041386617734299\n",
      "Loscalzo, Y., & Giannini, M. (2019a). Heavy study investment in Italian \n",
      "college students. An analysis of Loscalzo and Giannini’s (2017) \n",
      "studyholism comprehensive model. Frontiers in Psychiatry, 10,  Article \n",
      "489. https://doi.org/10.3389/fpsyt.2019.00489\n",
      "Loscalzo, Y., & Giannini, M. (2019b). What type of worker are you? \n",
      "Work-related Inventory (WI-10): A comprehensive instrument for \n",
      "the measurement of workaholism.  WORK: A Journal of Prevention, \n",
      "Assessment & Rehabilitation, 62 (3), 383-392. https://doi.org/10.3233/\n",
      "WOR-192875\n",
      "Loscalzo, Y., & Giannini, M. (2020). Heavy work investment and \n",
      "psychopathology: Internalizing and externalizing disorders as \n",
      "antecedents and outcomes. Amfiteatru Economic  [Special Issue], \n",
      "22(14), 1301-1324. https://doi.org/10.24818/EA/2020/S14/1301\n",
      "Luthans, F., & Avolio, B. (2003). Authentic leadership development. In K. S. \n",
      "Cameron & J. E. Dutton (Eds.), Positive organizational scholarship  (pp. \n",
      "241-254). Berrett- Koehler.\n",
      "Malinowska, D., & Tokarz, A. (2014). The structure of workaholism and \n",
      "types of workaholic. Polish Psychological Bulletin, 45 (2), 211-222. \n",
      "http://doi.org/10.2478/ppb- 2014-0027\n",
      "May, D. R., Gilson, R. L., & Harter, L. M. (2004). The psychological conditions \n",
      "of meaningfulness, safety and availability and the engagement of the \n",
      "human spirit at work. Journal of Occupational and Organizational \n",
      "Psychology, 77 (1), 11-37. https://doi.org/10.1348/096317904322915892\n",
      "McNeely, B. L., & Meglino, B. M. (1994). The role of dispositional and \n",
      "situational antecedents in prosocial organizational behavior: An \n",
      "examination of the intended beneficiaries of prosocial behavior. Journal \n",
      "of Applied Psychology, 79 (6), 836-844.  https://doi.org/10.1037/0021-\n",
      "9010.79.6.836\n",
      "Organ, D. W. (1997). Organizational citizenship behavior: It’s construct \n",
      "clean-up time. Human Performance, 10( 2), 85-97. https://doi.\n",
      "org/10.1207/s15327043hup1002_2\n",
      "Pan, X. & Houser, D. (2011). Mating strategies and gender differences in \n",
      "prosociality: Theory and evidence. CESifo Economic Studies, 57 (4), \n",
      "653-682. https://doi.org/10.1093/cesifo/ifr020\n",
      "Podsakoff, P. M., MacKenzie, S. B., Lee, J. Y., & Podsakoff, N. P. (2003). \n",
      "Common method biases in behavioral research: A critical review of the \n",
      "literature and recommended remedies.  Journal of Applied Psychology, \n",
      "88(5), 879-903. https://doi.org/10.1037/0021- 9010.88.5.879\n",
      "Podsakoff, N. P., Whiting, S. W., Podsakoff, P. M., & Blume, B. D. (2009). \n",
      "Individual and organizational-level consequences of organizational \n",
      "citizenship behaviors: A meta- analysis. Journal of Applied Psychology, \n",
      "94(1), 122-141.  https://doi.org/10.1037/a0013079\n",
      "Reeve, B. B., Hays, R. D., Bjorner, J. B., Cook, K. F., Crane, P. K., Teresi, J. A., \n",
      "Thissen, D., Revicki, D., Weiss, D., Hambleton, R., Lui, H., Gershon, R., \n",
      "Reise, S., Lai, J.-S., & Cella, D. (2007). Psychometric evaluation and \n",
      "calibration of health-related quality of life item banks: Plans for \n",
      "the Patient-Reported Outcomes Measurement Information System 64\n",
      "Y . Loscalzo et al. / Journal of Work and Organizational Psychology (2023) 39(2) 55-64\n",
      "(PROMIS). Medical Care, 45 (5), S22-S31. https://doi.org/10.1097/01.\n",
      "mlr.0000250483.85507.04\n",
      "Reinke, S. J. (2004). Service before self: Towards a theory of servant \n",
      "leadership. Global Virtue Ethics Review, 3,  30-57. https://www.\n",
      "researchgate.net/publication/228754949_Service_before_self_\n",
      "Towards_a_theory_of_servant-leadership\n",
      "Robinson S. L., & Bennett, R. J. (1995). A typology of deviant workplace \n",
      "behaviors: A multidimensional scaling study.  Academy of Management \n",
      "Journal, 38 (2), 555-572.\n",
      "Salanova, M., Del Líbano, M., Llorens, S., & Schaufeli, W. B. (2014). Engaged, \n",
      "workaholic, burned out or just 9-to-5? Toward a typology of employee \n",
      "well-being. Stress & Health, 30 (1), 71-81. https://doi.org/10.1002/\n",
      "smi.2499\n",
      "Schaubroeck, J., Lam, S. S., & Peng, A. C. (2011). Cognition-based and \n",
      "affect-based trust as mediators of leader behavior influences on team \n",
      "performance. Journal of Applied Psychology, 96 (4), 863-871.\n",
      "Sendjaya, S. (2015). Personal and organizational excellence through servant \n",
      "leadership: Learning to serve, serving to lead, leading to transform. \n",
      "Springer.\n",
      "Sendjaya, S., Eva, N., Butar Butar, I., Robin, M., & Castles, S. (2019). SLBS-6: \n",
      "Validation of a short form of the Servant Leadership Behavior Scale. \n",
      "Journal of Business Ethics, 156 (3), 941-956. https://doi.org/10.1007/\n",
      "s10551-017-3594-3\n",
      "Sendjaya, S., Sarros, J. C., & Santora, J. C. (2008). Defining and measuring \n",
      "servant leadership behaviour in organizations. Journal of \n",
      "Management Studies, 45 (2), 402-424. https://doi.org/10.1111/j.1467-\n",
      "6486.2007.00761.x\n",
      "Shah, S.M.M., Humaira, D., Sheva, R., Saifullah, S., & Qamar Abbas, M. \n",
      "(2022). Do you want better employee engagement? An umbrella of \n",
      "ethical leadership.  International Journal of Early Childhood Special \n",
      "Education, 14 (7), 1700-1710.\n",
      "Shimazu, A., Schaufeli, W. B., Kamiyama, K., & Kawakami, N. (2015). \n",
      "Workaholism vs. work engagement: The two different predictors of \n",
      "future well-being and performance.  International Journal of Behavioral \n",
      "Medicine, 22 (1), 18-23. https://doi.org/10.1007/s12529-014-9410-x\n",
      "Shkoler, O., & Kimura, T. (2020). How does work motivation impact \n",
      "employees’ investment at work and their job engagement? A \n",
      "moderated-moderation perspective through an international lens. \n",
      "Frontiers in Psychology, 11,  Article 38. https://doi.org/10.3389/\n",
      "fpsyg.2020.00038\n",
      "Shkoler, O., Rabenu, E., Iqbal, M. Z., Ferrari, F., Hatipoglu, B., Roazzi, A., \n",
      "Kimura, T., Tabak, F., Moasa, H., Vasiliu, C., Tziner, A., & Lebron, M. J. \n",
      "(2021). Heavy-Work Investment scale and demographics in 9 countries: \n",
      "Did the COVID-19’s context make a difference? Journal of Work and \n",
      "Organizational Psychology (Revista de Psicología del Trabajo y de las \n",
      "Organizaciones), 37 (2), 67-83.  https://doi.org/10.5093/jwop2021a8\n",
      "Shkoler, O., Tziner, A., Vasiliu, C., & Ghinea, C. N. (2021). A moderated-\n",
      "mediation analysis of organizational justice and leader-member \n",
      "exchange: Cross-validation with three sub-samples. Frontiers \n",
      "in Psychology, 12,  Article 616476. https://doi.org/10.3389/\n",
      "fpsyg.2021.616476\n",
      "Smith, T., Kindness, D., & Rathburn, D. (2022, November 23). What \n",
      "is employee engagement? Definition, strategies, and example. \n",
      "Investopedia. https://www.investopedia.com/terms/e/employee-\n",
      "engagement.asp\n",
      "Snir, R., & Harpaz, I. (2012). Beyond workaholism: Towards a general model \n",
      "of heavy work investment. Human Resource Management Review, \n",
      "22(3), 232-243. https://doi.org/10.1016/j.hrmr.2011.11.011\n",
      "Sousa, M., & Van Dierendonck, D. (2017). Servant leadership and the effect \n",
      "of the interaction between humility, action, and hierarchical power \n",
      "on follower engagement. Journal of Business Ethics, 141 (1), 13-25. \n",
      "https://doi.org/10.1007/s10551-015-2725-ySpagnoli, P., Balducci, C., Scafuri Kovalchuk, L., Maiorano, F., & Buono, C. \n",
      "(2018). Are engaged workaholics protected against job-related negative \n",
      "affect and anxiety before sleep? A study of the moderating role of \n",
      "gender.  International Journal of Environmental Research and Public \n",
      "Health, 15 (9), Article 1996. https://doi.org/10.3390/ijerph15091996\n",
      "Spector, P. E. (2019). Do not cross me: Optimizing the use of cross-sectional \n",
      "designs. Journal of Business and Psychology, 34 (2), 125-137.\n",
      "Spector, P. E., & Fox, S. (2005). A model of counterproductive work \n",
      "behavior. In S. Fox & P. E. Spector (Eds.), Counterproductive workplace \n",
      "behavior: Investigations of actors and targets  (pp. 151-174). American \n",
      "Psychological Association.\n",
      "Spector, P. E., Fox, S., Penney, L. M., Bruursema, K., Goh, A., & Kessler, S. (2006). \n",
      "The dimensionality of counterproductivity: Are all counterproductive \n",
      "behaviors created equal? Journal of Vocational Behavior, 68 (3), 446-\n",
      "460. https://doi.org/10.1016/j.jvb.2005.10.005\n",
      "Stinglhamber, F., & Vandenberghe, C. (2003). Organizations and supervisors \n",
      "as sources of support and targets of commitment: A longitudinal \n",
      "study. Journal of Organizational Behavior, 24 (3), 251-270. https://doi.\n",
      "org/10.1002/job.192\n",
      "Stone, A. G., Russell, R. F., & Patterson, K. (2004). Transformational \n",
      "versus servant leadership: A difference in leader focus. Leadership \n",
      "& Organizational Development Journal, 25,  349-361. https://doi.\n",
      "org/10.1108/01437730410538671\n",
      "Tabak, F., Tziner, A., Shkoler, O., & Rabenu, E. (2021). The complexity of \n",
      "heavy work investment (HWI): A conceptual integration and review \n",
      "of antecedents, dimensions, and outcomes. Sustainability, 13, Article \n",
      "7803. https://doi.org/10.3390/su13147803\n",
      "Thomas, D. C., & Peterson, M. F. (2016). Cross-cultural management: \n",
      "Essential concepts.  SAGE.\n",
      "Tziner, A., & Sharoni, G. (2014). Organizational citizenship behavior, \n",
      "organizational justice, job stress, and work-family conflict: Examination \n",
      "of their interrelationships with respondents from a non-Western \n",
      "culture. Revista de Psicología del Trabajo de las Organizaciones, 30 (1), \n",
      "35-42. https://doi.org/10.5093/tr2014a5\n",
      "Urbini, F., Chirumbolo, A., & Callea, A. (2020). Promoting individual and \n",
      "organizational OCB: The mediating role of work engagement.  Behavioral \n",
      "Sciences, 10 , Article 138. https://doi.org/10.3390/bs10090138\n",
      "Van Beek, I., Taris, T. W., & Schaufeli, W.B. (2011). Workaholic and \n",
      "work engaged employees: Dead ringers or worlds apart? Journal \n",
      "of Occupational Health Psychology, 16 (4), 468-482. https://doi.\n",
      "org/10.1037/a0024392\n",
      "Vandenberghe, C., Panaccio, A., Bentein, K., Mignonac, K., & Roussel, P. \n",
      "(2011). Assessing longitudinal change of and dynamic relationships \n",
      "among role stressors, job attitudes, turnover intention, and well-being \n",
      "in neophyte newcomers.  Journal of Organizational Behavior, 32 (4), \n",
      "652-671. https://doi.org/10.1002/job.732\n",
      "Weaver, G., & Stansbury, J. (2014). Religion in organizations: Cognition and \n",
      "behavior. In P. Tracey, N. Phillips, & M. Lounsbury (Eds.), Religion and \n",
      "organization theory. Research in the sociology of organizations  (Vol. \n",
      "10, pp. 65-110). Emerald.\n",
      "Williams, L. J., & Anderson, S. E. (1991). Job satisfaction and organizational \n",
      "commitment as predictors of organizational citizenship and in-\n",
      "role behaviors. Journal of Management, 17 , 601-607. https://doi.\n",
      "org/10.1177/014920639101700305\n",
      "Yalabik, Z. Y., Van Rossenberg, Y., Kinnie, N., & Swart, J. (2015). Engaged \n",
      "and committed? The relationship between work engagement and \n",
      "commitment in professional service firms.  The International Journal of \n",
      "Human Resource Management, 26 (12), 1602-1621.  https://doi.org/10.1\n",
      "080/09585192.2014.953972\n"
     ]
    }
   ],
   "source": [
    "import PyPDF2\n",
    "\n",
    "def extract_references(pdf_path):\n",
    "    pdf_file = open(pdf_path, 'rb')\n",
    "    pdf_reader = PyPDF2.PdfReader(pdf_file)\n",
    "    references = \"\"\n",
    "    capture = False\n",
    "\n",
    "    for page_num in range(len(pdf_reader.pages)):\n",
    "        page = pdf_reader.pages[page_num]\n",
    "        text = page.extract_text()\n",
    "        \n",
    "        # Check if text extraction is possible\n",
    "        if not text:\n",
    "            print(f\"No text found on page {page_num}\")\n",
    "            continue\n",
    "\n",
    "        if 'References' in text or 'Bibliography' in text or 'references' in text:\n",
    "            # Here you can split the text and start capturing the references section\n",
    "            # This assumes that 'References' or 'Bibliography' is a unique heading\n",
    "            # You may need to refine this logic depending on the actual PDF layout\n",
    "            parts = text.split('References', 1)\n",
    "            if len(parts) > 1:\n",
    "                capture = True\n",
    "                references += parts[1]\n",
    "            else:\n",
    "                parts = text.split('Bibliography', 1)\n",
    "                if len(parts) > 1:\n",
    "                    capture = True\n",
    "                    references += parts[1]\n",
    "        elif capture:\n",
    "            # Keep capturing until we decide we're done (which is tricky to determine automatically)\n",
    "            references += text\n",
    "\n",
    "    pdf_file.close()\n",
    "    return references\n",
    "\n",
    "# Path to your PDF\n",
    "pdf_path = \"1576_5962_jwop_39_2_0055.pdf\"\n",
    "references_section = extract_references(pdf_path)\n",
    "\n",
    "# Save or print the extracted references section\n",
    "print(references_section)"
   ]
  },
  {
   "cell_type": "code",
   "execution_count": 24,
   "metadata": {},
   "outputs": [],
   "source": [
    "prompt = \"\"\"\n",
    "You need to extract the reference from the text and re-structure it in this format: \n",
    "{ref1:{\"name\":\"X\", \"author\":\"Y\",....... }}- ...\n",
    "\n",
    "Re organize the following from:\n",
    "\"\"\""
   ]
  }
 ],
 "metadata": {
  "kernelspec": {
   "display_name": "llama-fine-tuning",
   "language": "python",
   "name": "python3"
  },
  "language_info": {
   "codemirror_mode": {
    "name": "ipython",
    "version": 3
   },
   "file_extension": ".py",
   "mimetype": "text/x-python",
   "name": "python",
   "nbconvert_exporter": "python",
   "pygments_lexer": "ipython3",
   "version": "3.8.10"
  }
 },
 "nbformat": 4,
 "nbformat_minor": 2
}
