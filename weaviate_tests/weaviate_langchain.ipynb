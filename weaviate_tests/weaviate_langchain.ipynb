{
 "cells": [
  {
   "cell_type": "code",
   "execution_count": 14,
   "metadata": {},
   "outputs": [],
   "source": [
    "import weaviate\n",
    "import json\n",
    "from langchain.document_loaders import TextLoader\n",
    "from langchain.text_splitter import CharacterTextSplitter\n",
    "from langchain.vectorstores import Weaviate\n",
    "from langchain.document_loaders import PyPDFLoader\n",
    "from langchain.embeddings import HuggingFaceInstructEmbeddings\n",
    "from torch import cuda, bfloat16\n",
    "from langchain.llms import HuggingFacePipeline\n",
    "import transformers\n",
    "\n",
    "from langchain.chains import ChatVectorDBChain,RetrievalQA"
   ]
  },
  {
   "cell_type": "code",
   "execution_count": 2,
   "metadata": {},
   "outputs": [],
   "source": [
    "client = weaviate.Client(\n",
    "    url=\"http://localhost:8080\",   \n",
    ")"
   ]
  },
  {
   "cell_type": "code",
   "execution_count": 3,
   "metadata": {},
   "outputs": [
    {
     "name": "stderr",
     "output_type": "stream",
     "text": [
      "/home/ubuntu/LLM-as-a-Service/llama-env/lib/python3.8/site-packages/InstructorEmbedding/instructor.py:7: TqdmWarning: IProgress not found. Please update jupyter and ipywidgets. See https://ipywidgets.readthedocs.io/en/stable/user_install.html\n",
      "  from tqdm.autonotebook import trange\n"
     ]
    },
    {
     "name": "stdout",
     "output_type": "stream",
     "text": [
      "load INSTRUCTOR_Transformer\n",
      "max_seq_length  512\n"
     ]
    }
   ],
   "source": [
    "loader = PyPDFLoader(\"../pdf_querying_summarization/temp_file/doc.pdf\")\n",
    "\n",
    "documents = loader.load()\n",
    "\n",
    "text_splitter = CharacterTextSplitter(chunk_size=1000, chunk_overlap=100)\n",
    "\n",
    "docs = text_splitter.split_documents(documents)\n",
    "\n",
    "embeddings = HuggingFaceInstructEmbeddings(\n",
    "            model_name=\"hkunlp/instructor-xl\", model_kwargs={\"device\": \"cuda\"}\n",
    "        )"
   ]
  },
  {
   "cell_type": "code",
   "execution_count": 9,
   "metadata": {},
   "outputs": [],
   "source": [
    "db = Weaviate.from_documents(docs, embeddings, weaviate_url=\"http://localhost:8080\", by_text=False)"
   ]
  },
  {
   "cell_type": "code",
   "execution_count": 12,
   "metadata": {},
   "outputs": [],
   "source": [
    "query = \"When were the GRI standards written?\"\n",
    "docs = db.similarity_search(query)"
   ]
  },
  {
   "cell_type": "code",
   "execution_count": 13,
   "metadata": {},
   "outputs": [
    {
     "data": {
      "text/plain": [
       "[Document(page_content=\"3\\nA Short Introduction to the GRI Standards\\n...\\nApply all three Universal \\nStandards to your reportingUse the Sector Standards that \\napply to your sectorsSelect Topic Standards to report \\nspeciﬁc information on your \\nmaterial topicsSector Standards Universal Standards\\n...Topic Standards\\nGRI 201\\nGRI 415\\nGRI 304\\nGRI 403\\nGRI 303\\nGRI 205\\nGRI 305\\nGRI 202\\nGRI 13\\nGRI 16\\nGRI 12\\nGRI 15\\nGRI 18\\nGRI 11\\nGRI 14\\nGRI 17GRI Standards\\nRequirements and \\nprinciples for using the \\nGRI Standards\\nDisclosures about the \\nreporting organization\\nDisclosures and \\nguidance about the \\norganization's material \\ntopics \\nGRI 1\\nGRI 2\\nGRI 3Figure 1. GRI Standards: Universal, Sector and Topic Standards• GRI 2: General Disclosures 2021 ( GRI 2 ) contains \\ndisclosures relating to details about an organization’s \\nstructure and reporting practices; activities and \\nworkers; governance; strategy; policies; practices; and \\nstakeholder engagement. These give insight into the \\norganization’s profile and scale, and help in providing a \\ncontext for understanding an organization’s impacts.\\n• GRI 3: Material Topics 2021 ( GRI 3 ) explains the steps \\nby which an organization can determine the topics \\nmost relevant to its impacts, its material topics , and \\ndescribes how the Sector Standards are used in this \\nprocess. It also contains disclosures for reporting its list \\nof material topics; the process by which the organization \\nhas determined its material topics; and how it manages \\neach topic.\\nGRI Sector Standards\\nThe GRI Sector Standards intend to increase the \\nquality, completeness, and consistency of reporting by \\norganizations. Standards will be developed for 40 sectors, \\nstarting with those with the highest impact, such as oil and \\ngas, agriculture, aquaculture, and fishing.The Standards list topics that are likely to be material \\nfor most organizations in a given sector, and indicate \\nrelevant disclosures to report on these topics. If an \\napplicable Sector Standard is available, an organization is \\nobliged (‘required’) to use it when reporting with the GRI \\nStandards.\\nEach Sector Standard consists of an initial section that \\ngives an overview of the sector’s characteristics, including \\nthe activities and business relationships that can underpin \\nits impacts. The main section of the Standard then lists \\nthe likely material topics for the sector. Topic by topic, \\nthe most significant impacts associated with the sector \\nare described in this section. Each topic description \\npoints to the relevant disclosures in the Topic Standards \\nfor the organization to report. A Sector Standard may \\nalso list additional disclosures that are not in a Topic \\nStandard, for example, where the disclosures from the \\nTopic Standard do not provide sufficient information about \\nthe organization’s impacts concerning the topic. The \\ntopics and associated disclosures are determined using \\nsector-specific evidence, international instruments, and \\nadvice from sector experts. Consequently, they reflect the\", metadata={'page': 2, 'source': '../pdf_querying_summarization/temp_file/doc.pdf'}),\n",
       " Document(page_content='5\\nA Short Introduction to the GRI Standards\\nReporting in accordance with the GRI \\nStandards\\nThe GRI Standards allow an organization to report \\ninformation in a way that covers all its most significant \\nimpacts on the economy, environment, and people, or to \\nfocus only on specific topics, such as climate change or \\nchild labor.\\nGRI recommends reporting in accordance  with the GRI \\nStandards. Under this approach, the organization reports \\non all its material topics and related impacts and how it \\nmanages these topics. This reporting approach provides a \\ncomprehensive picture of an organization’s most significant \\nimpacts on the economy, environment, and people.\\nHowever, if an organization cannot fulfill some of the \\nrequirements to report in accordance with the GRI \\nStandards or only wants to report specific information \\nfor specific purposes, such as when complying with \\nregulatory requirements; in that case, it can use selected \\nGRI Standards or parts of their content, and report with \\nreference  to the GRI Standards.\\nNavigating a report\\nReports using the GRI Standards may be published in \\nvarious formats (e.g., electronic, paper-based) and made \\naccessible across one or more locations (e.g., standalone \\nsustainability report, webpages, annual report).\\nReports must contain a GRI content index . The content \\nindex makes reported information traceable and increases \\nthe report’s credibility and transparency.\\nThe content index provides an overview of the \\norganization’s reported information and helps stakeholders \\nnavigate the report at a glance. It specifies the GRI \\nStandards that the organization has used. The index also \\nlists the location, such as a page number or URL, for all \\ndisclosures that the organization has used to report on its \\nmaterial topics.\\nThe content index can also help a stakeholder understand \\nwhat the organization has not reported. The organization \\nmust specify in the content index if a ‘reason for \\nomission’ is being used. In addition, the disclosure or the \\nrequirement that the organization cannot comply with, \\ntogether with an explanation, must be listed in the content \\nindex.\\nIf Sector Standards apply to the organization, Sector \\nStandard reference numbers provide a unique identifier \\nfor each disclosure listed in a Sector Standard. This helps \\ninformation users assess which of the disclosures listed \\nin the applicable Sector Standards are included in the \\norganization’s reporting.\\nA list of GRI Standards can be found here.Report information\\nNotifyPrepare GRI content index and statement of use\\nPublish information and GRI content indexUnderstand the organization’s context\\nIdentify actual and potential impacts\\nAssess the signiﬁcance of the impacts\\nPrioritize the most signiﬁcant impacts for reporting21\\n3\\n4\\nMaterial topicsUnderstand system and key elements \\nof the GRI Standards\\nApply reporting principles \\nthroughout the process\\nIdentify and assess impacts, \\nand determine material topics\\nReasons for omissions may apply• Universal Standards \\n• Sector Standards \\n• Topic StandardsReport relevant disclosures from:Figure 2. Reporting using the GRI Standards', metadata={'page': 4, 'source': '../pdf_querying_summarization/temp_file/doc.pdf'}),\n",
       " Document(page_content='2\\nA Short Introduction to the GRI Standards\\nIntroduction\\nThe GRI Standards are a modular system \\nof interconnected standards. They allow \\norganizations to publicly report the \\nimpacts of their activities in a structured \\nway that is transparent to stakeholders \\nand other interested parties.\\nThis Short Introduction will:\\n•  give new users of the GRI Standards an overview \\nof how the Standards are set up, and equip them to \\nstart working with the various elements involved in the \\nreporting process;\\n•  be of assistance to experienced users in gaining an \\nunderstanding of changes in the system and the role of \\nthe GRI Sector Standards; and\\n•  aid stakeholders and other information users (such \\nas analysts and policymakers) to understand how the \\nreporting process works and what to look for in a report.\\nThree series of Standards support the reporting process: \\nthe GRI Topic Standards, each dedicated to a particular \\ntopic and listing disclosures relevant to that topic; the GRI \\nSector Standards, applicable to specific sectors; and the \\nGRI Universal Standards, which apply to all organizations. \\nUsing these Standards to determine what topics are \\nmaterial (relevant) to report on helps organizations indicate their contributions – positive or negative – towards \\nsustainable development.\\nWho uses the GRI Standards, and who \\nuses the reported information?\\nAny organization, large or small, public or private, from \\nany sector or location, can use the GRI Standards. \\nReporters, stakeholders, and other information users draw \\non the Standards.\\nReporters within an organization use the Standards to \\nreport on the organization’s impacts in a credible way \\nthat is comparable over time and in relation to other \\norganizations. The Standards also help stakeholders \\nand other information users understand what is expected \\nfrom an organization to report on and use the information \\npublished by organizations in various ways.\\nThe organization can use the disclosed information to \\nassess its policies and strategies or to guide decision-\\nmaking, such as setting goals and targets. Stakeholders \\ncan also use this information. For example, investors \\ncan use the reported information to assess how an \\norganization integrates sustainable development into \\nits strategy to identify financial risks and evaluate its \\nlong-term success. The information provided can also \\nhelp other information users, such as analysts and \\npolicymakers in benchmarking and forming policy, and \\nacademics in their research.\\nThe Structure of the GRI Standards\\nThe GRI Standards are a modular system \\ncomprising three series of Standards: the \\nGRI Universal Standards, the GRI Sector \\nStandards, and the GRI Topic Standards. \\nEach Standard begins with a detailed \\nexplanation of how to use it.\\nThe Standards contain disclosures , which provide a \\nstructured means for an organization to report information \\nabout itself and its impacts. \\nThe disclosures can have requirements  and can also \\ninclude recommendations . Requirements list the \\ninformation an organization must report or instructions \\nit must comply with and report in accordance with the \\nGRI Standards. Recommendations indicate that certain information, or a particular course of action, is encouraged \\nthough not compulsory.\\nGuidance  to facilitate understanding can include \\nbackground information, explanations, and examples.\\nGRI Universal Standards\\nThe GRI Universal Standards apply to all organizations, \\nand consist of the following:\\n• GRI 1: Foundation 2021 ( GRI 1 ) outlines the purpose \\nof the GRI Standards, clarifies critical concepts, \\nand explains how to use the Standards. It lists the \\nrequirements that an organization must comply with to \\nreport in accordance with the GRI Standards. It also \\nspecifies the principles – such as accuracy, balance, \\nand verifiability – fundamental to good-quality reporting.', metadata={'page': 1, 'source': '../pdf_querying_summarization/temp_file/doc.pdf'}),\n",
       " Document(page_content='A Short Introduction to  \\nthe GRI Standards\\nwww.globalreporting.org www.globalreporting.org', metadata={'page': 0, 'source': '../pdf_querying_summarization/temp_file/doc.pdf'})]"
      ]
     },
     "execution_count": 13,
     "metadata": {},
     "output_type": "execute_result"
    }
   ],
   "source": [
    "docs"
   ]
  },
  {
   "cell_type": "code",
   "execution_count": 8,
   "metadata": {},
   "outputs": [
    {
     "data": {
      "text/plain": [
       "(Document(page_content='A Short Introduction to  \\nthe GRI Standards\\nwww.globalreporting.org www.globalreporting.org', metadata={'_additional': {'vector': [0.053567585, -0.0251535, 0.019101305, 0.0066484925, -0.062171742, -0.04195238, -0.088961646, 0.029081617, -0.009508389, -0.005521557, 0.036933485, 0.038459525, -0.013330513, -0.10212877, -0.023793692, 0.03594412, 0.007122637, -0.039632343, -0.010635164, -0.01424749, 0.0057760137, -0.04446114, -0.041216586, 0.026710706, -0.014804762, -0.054996327, 0.023391552, 0.013136665, -0.036958776, -0.03909738, 0.052267905, -0.011480347, 0.0067614955, -0.046085354, 0.04469198, -0.009438213, -0.023576789, -0.022953432, 0.0030165846, -0.0012048823, -0.06619726, 0.025584906, 0.017831862, -0.0054667275, 0.0027591179, -0.0104497885, -0.0023296648, 0.019857239, -0.019289603, -0.03826433, -0.013847204, -0.053075723, 0.021076266, -0.03891018, 0.017620891, 0.024064133, -0.026787126, -0.0139441285, -0.036185306, 0.05172352, 0.024646377, 0.021141836, 0.00026574716, 0.042177506, 0.047628425, 0.02629993, 0.08262153, 0.006741726, -0.025889821, 0.06201187, -0.023577692, 0.017743466, 0.030164303, -0.026379842, -0.04540046, 0.03608816, 0.049991984, 0.057004005, -0.021557117, 0.025404856, -0.0722364, 0.031941906, -0.0595489, 0.017147673, -0.04486263, -0.015043617, 0.005108007, 0.021446181, 0.01832299, 0.092462055, -0.018852679, 0.029015716, 0.020206762, 0.03833797, -0.0004380327, 0.027071869, 0.011319374, -0.0041416115, 0.013889745, 0.00477583, -0.013209467, 0.029375467, -0.05221804, -0.07200908, 0.0014642621, -0.024097465, 0.03436244, 0.038490295, 0.03766035, -0.059514977, 0.05492273, 0.060458463, -0.012838732, -0.06569577, 0.06702279, -0.07004407, 0.049694505, -0.020660272, -0.068106905, 0.054549463, 0.071788065, 0.046690892, 0.025599884, 0.029582696, -0.0075289262, 0.0566598, 0.05498931, -0.012780474, 0.039731164, -0.019832158, 0.06579622, -0.057679545, -0.0047017443, 0.009807073, 0.049282104, -0.047805417, 0.023427626, -0.009922504, 0.0040934035, -0.034541853, 0.03621541, 0.0028117318, 0.02268815, -0.052543014, -0.038377717, 0.018993357, 0.0070679486, 0.0140823815, 0.019852135, 0.014671137, -0.030617565, -0.008059231, 0.007964281, -0.02191092, -0.014082386, -0.0050558, -0.085825786, -0.018048016, 0.08237777, -0.041910846, 0.049255297, -0.011458215, -0.021785717, 0.09864131, -0.06156948, 0.0032722782, -0.059067357, -0.0030856065, 0.028913025, 0.025516467, 0.012254475, 0.01280783, -0.040738974, 0.027277261, -0.0032022337, -0.007936162, -0.009435354, 0.05739766, 0.065351866, 0.06344996, -0.033911537, 0.028121714, 0.00617068, 0.023402585, 0.008764716, 0.009070127, 0.011115376, -0.041213706, 0.0092109395, -0.010414121, -0.012602811, -0.096673906, 0.011423373, 0.024163643, 0.032994617, -0.026548184, -0.004484417, 0.10690433, -0.025856232, 0.06302562, -0.09356328, -0.010128151, 0.019457487, 0.04900843, -0.05354738, 0.057436936, -0.027303021, 0.024227588, -0.0033676086, -0.0059468923, -0.04150149, -0.012933774, -0.00087639043, 0.00077858364, -0.022936309, 0.04883459, 0.050788358, -0.0076998533, -0.006837333, 0.048855737, -0.052506253, 0.026213357, -0.008686462, -0.043524567, 0.04481267, 0.018768637, -0.041853983, -0.013222995, 0.047386218, -0.0023523518, -0.0053545292, -0.0014770417, 0.045449, 0.03473671, -0.025572782, -0.03823347, 0.0023284925, -0.03186686, -0.033675313, 0.013044929, 0.040616896, -0.03072894, -0.018957943, -0.042455707, 0.04206588, 0.049347386, -0.03559907, 0.021947134, 0.0015924354, 0.015618131, -0.0083838925, 0.012804926, 0.010077748, 0.0030561897, -0.010749598, -0.0097978255, -0.018124327, 0.006261276, -0.022035778, -0.012192478, -0.048048496, -0.021063961, -0.010585792, -0.015457819, -0.02684514, -0.008219845, 0.034149084, -0.04494703, 0.064876646, -0.051125307, -0.0048553185, 0.03543416, 0.007449745, -0.0054537356, 0.0047018384, 0.044976056, -0.0130091375, 0.00069697585, -0.05657296, 0.015874874, -0.04608419, -0.050544735, 0.018759163, -0.014751827, -0.02673111, 0.0037346003, 0.018727941, 0.009570273, 0.04067224, -0.035938922, 0.0009827467, 0.05183539, -0.08806547, 0.047024064, -0.010027162, -0.018828789, 0.008664169, 0.020440936, 0.05441989, 0.0003777938, -0.012909673, -0.0013387873, 0.009555765, 0.00050778495, -0.04720055, 0.02266641, -0.017770167, 0.019152071, -0.03866094, -0.0197109, 0.08706209, 0.025994794, 0.029734243, -0.04207086, -0.0357723, -0.00071669323, 0.043375276, -0.0034783927, -0.0033696066, -0.012528445, 0.016650066, -0.062211458, 0.029936716, -0.07731279, 0.0314084, 0.027144123, 0.031718027, 0.09832577, 0.0035994325, -0.01853213, 0.01850399, 0.008648485, -0.049284216, 0.03483461, 0.02102795, 0.022245558, -0.01786666, -0.009987326, 0.008377765, 0.024458846, -0.09182245, -0.00033114725, 0.015298054, -0.016678829, -0.033824958, 0.021439953, 0.05050029, 0.06951637, -0.07229001, -0.05936485, 0.027093826, 0.036010668, -0.042809773, 0.004247738, 0.061748154, -0.0011564825, 0.08043196, -0.00687957, -0.018468963, 0.00075341895, 0.008349939, -0.014800645, -0.034807358, -0.043817155, 0.0012951496, -0.01980334, -0.038127784, -0.03444926, -0.037877247, 0.057454783, 0.076121524, 0.033915147, 0.01218836, 0.019169219, -0.072653316, 0.014312711, -0.0019319209, -0.030758599, -0.055538468, -0.030048115, 0.00040732746, -0.013260823, 0.005865719, 0.057817254, 0.044344436, -0.014652719, 0.010220811, -0.05902298, -0.038072407, 0.03559369, -0.033482566, -0.0363881, 0.031706292, -0.009323978, 0.018987617, -0.03553237, -0.025988532, -0.047276337, -0.032498665, 0.022699656, 0.030046627, 0.026866775, 0.0461127, 0.011892968, 0.0032219423, 0.030408302, -0.0034574096, 0.030448776, -0.008806934, 0.048254903, -0.0011554993, -0.067475446, -0.030681442, -0.03920461, 0.029737135, -0.008976279, 0.02525707, -0.016449962, 0.020704744, 0.002022822, 0.02214435, -0.02058959, 0.045454957, 0.002284122, -0.045042276, -0.016809393, -0.01315159, 0.008726693, -0.044171404, 0.020355878, -0.035749175, 0.017286, 0.040314745, -0.0024839898, -0.018074198, -0.010823655, -0.03998462, 0.021525282, -0.03990077, 0.052334588, 0.030446509, -0.012347701, 0.067493774, 0.039131843, 0.043510385, 0.034122318, -0.027234236, 0.002195192, -0.028891329, 0.010905451, -0.0073448583, 0.043386396, 0.033583485, 0.00872067, -0.023501383, 0.08832276, -0.030015307, 0.012622646, -0.030937241, -0.009729708, -0.018457869, -0.009804906, 0.0025243834, -0.007007829, -0.051973905, -0.00630089, 0.015610333, 0.028210085, 0.0602682, -0.0020299216, -0.008772773, 0.043310408, 0.0031568776, -0.011110321, -0.0019785573, -0.010913963, 0.00039007317, -0.012199021, -0.001954492, 0.004913208, 0.033098187, 0.011374131, 0.033828877, -0.026617413, -0.015265467, 0.015571477, -0.029028645, 0.010979518, -0.007231537, -0.0249835, -0.004566045, 0.0018287399, 0.014608053, 0.00050017744, 0.01401613, -0.04463743, 0.016962083, -0.066876225, 0.08038107, -0.002676938, -0.047661576, -0.0028953024, 0.013556572, 0.06716074, 0.012627868, 0.04208542, 0.025046065, 0.018494628, 0.028231269, -0.0090938695, 0.04064919, -0.021788236, -0.0017639699, 0.044585165, -0.008434108, -0.03855675, -0.032579836, 0.004508653, -0.014254419, -0.06787871, -0.017199459, 0.03989084, 0.048008483, 0.03712762, -0.018174525, -0.019892512, 0.029053753, -0.016185062, -0.027550627, 0.0467244, -0.06114633, -0.014527416, 0.024537547, -0.02309876, -0.00532725, -0.0042736945, 0.021290977, -0.0055708196, -0.027237317, -0.0021538446, -0.0067135743, 0.02686185, -0.020533253, -0.013365667, -0.049836494, 0.049343817, -0.02022672, -0.03557616, -0.039865244, 0.012430439, 0.010605471, -0.038517468, -0.12074965, 0.0064734127, -0.042134058, 0.027917892, 0.057937752, 0.027793193, 0.010953349, -0.0012495347, -0.019995581, -0.018626785, -0.041314114, 0.0069307154, -0.09457066, -0.02158162, 0.038721904, 0.01417204, -0.028962158, 0.0057427925, -0.0027491038, 0.055410538, 0.0022933832, -0.019615524, 0.06663324, -0.037607543, 0.073442146, 0.009851643, 0.025053456, -0.007892375, 0.040760007, -0.058984794, -0.05077178, -0.055047665, -0.03995842, -0.07419328, 0.008313763, 0.08777377, -0.079233, 0.010569808, -0.012189735, -0.03433203, -0.008520177, 0.019203873, -0.004410033, -0.00045474267, 0.06394214, -0.009377123, -0.0130255185, 0.019084765, 0.077027515, 0.042932104, -0.00406706, 0.002660438, 0.05676543, 0.051312286, 0.04556583, -0.0067202114, 0.0033264998, -0.015863346, 0.0492792, 0.048682127, 0.060944267, -0.0035115709, 0.008086372, -0.034437615, -0.055826828, -0.01363194, -0.010682152, 0.025342869, -0.055681672, 0.00719122, -0.016096432, 0.034212876, 0.08676672, 0.0017078049, -0.037161916, -0.050767563, -0.086454205, -0.0039629466, -0.024223303, -0.039727964, 0.019965928, -0.01051104, -0.07078858, -0.018767912, -0.0052929134, -0.016050233, 0.025841437, 0.01821754, -0.0025801954, -0.006766953, -0.059384376, 0.037318293, -0.034844737, -0.018117895, 0.0333869, -0.03296748, -0.03552165, 0.07010762, 0.003705549, -0.034205537, -0.06378623, -0.04930755, -0.02094367, -0.008707014, 0.026803909, 0.026428413, -0.0072275484, -0.028717358, -0.026553726, 0.09651486, -0.0586466, -0.046237726, -0.045813307, -0.008214447, -0.0076811495, -0.032395486, 0.02642835, -0.009057525, -0.0056487746, -0.006612942, 0.0025175, -0.014545231, -0.018703822, 0.042283613, -0.0021966144, -0.025081463, -0.008902076, 0.025478339, -0.03680712, -0.0123007065, -0.024071198, -0.00067744736, -0.005421404, -0.031422835, 0.011583745, 0.08421872, 0.00092986895, 0.04494059, -0.007110855, -0.043370757, 0.02194996, 0.009203133, 0.035267495, -0.031296104, -0.0032577089, 0.021427331, -0.039004933, -0.031275142, 0.027303461, 0.05080243, 0.025776973, -0.059912533, 0.026865114, -0.04879042, 0.018671488, -0.03607427, 0.038504276, -0.011235128, -0.021444269, -0.043685284, -0.0065694195, -0.0066616978, 0.02569579, 0.050774198, -0.019056667, 0.045954853, 0.034371182, 0.04906857, 0.02487641, -0.010688611, -0.011792763, 0.03668382, 0.0029056284, 0.005106874, 0.008377429, -0.0073731067, -0.011739436, 0.041835167, 0.04210491, -0.00033688662, 0.018157445, 0.03138604, 0.0076739998, 0.023900803, -0.016752452, 0.05294267, -0.00476919, 0.07552014, -0.0749412, 0.02648912, 0.033901423, -0.007927842, 0.026386553, -0.011066506, 0.02275171, 0.048308447, -0.0408149, -0.022437662, -0.060412437, 0.035534184, -0.038757473, -0.012669609, 0.0057891374, 0.019813431, -0.02852226, 0.008853922, 0.054474983, -0.04951687, -0.008715678, 0.04224147, 0.0005086122, 0.02010496, -0.04724594, -0.08621164, -0.033515602, 0.05099562]}, 'page': 0, 'source': '../pdf_querying_summarization/temp_file/doc.pdf'}),\n",
       " 0.8271419065174092)"
      ]
     },
     "execution_count": 8,
     "metadata": {},
     "output_type": "execute_result"
    }
   ],
   "source": [
    "docs = db.similarity_search_with_score(query, by_text=False)\n",
    "docs[0]"
   ]
  },
  {
   "cell_type": "code",
   "execution_count": 17,
   "metadata": {},
   "outputs": [
    {
     "data": {
      "text/plain": [
       "{'class': 'LangChain_138df2f1432f4c5c825cff1cf8d79ee9',\n",
       " 'invertedIndexConfig': {'bm25': {'b': 0.75, 'k1': 1.2},\n",
       "  'cleanupIntervalSeconds': 60,\n",
       "  'stopwords': {'additions': None, 'preset': 'en', 'removals': None}},\n",
       " 'moduleConfig': {'text2vec-transformers': {'poolingStrategy': 'masked_mean',\n",
       "   'vectorizeClassName': True}},\n",
       " 'multiTenancyConfig': {'enabled': False},\n",
       " 'properties': [{'dataType': ['text'],\n",
       "   'indexFilterable': True,\n",
       "   'indexSearchable': True,\n",
       "   'moduleConfig': {'text2vec-transformers': {'skip': False,\n",
       "     'vectorizePropertyName': False}},\n",
       "   'name': 'text',\n",
       "   'tokenization': 'word'},\n",
       "  {'dataType': ['number'],\n",
       "   'description': \"This property was generated by Weaviate's auto-schema feature on Mon Sep 18 13:51:44 2023\",\n",
       "   'indexFilterable': True,\n",
       "   'indexSearchable': False,\n",
       "   'moduleConfig': {'text2vec-transformers': {'skip': False,\n",
       "     'vectorizePropertyName': False}},\n",
       "   'name': 'page'},\n",
       "  {'dataType': ['text'],\n",
       "   'description': \"This property was generated by Weaviate's auto-schema feature on Mon Sep 18 13:51:44 2023\",\n",
       "   'indexFilterable': True,\n",
       "   'indexSearchable': True,\n",
       "   'moduleConfig': {'text2vec-transformers': {'skip': False,\n",
       "     'vectorizePropertyName': False}},\n",
       "   'name': 'source',\n",
       "   'tokenization': 'word'}],\n",
       " 'replicationConfig': {'factor': 1},\n",
       " 'shardingConfig': {'virtualPerPhysical': 128,\n",
       "  'desiredCount': 1,\n",
       "  'actualCount': 1,\n",
       "  'desiredVirtualCount': 128,\n",
       "  'actualVirtualCount': 128,\n",
       "  'key': '_id',\n",
       "  'strategy': 'hash',\n",
       "  'function': 'murmur3'},\n",
       " 'vectorIndexConfig': {'skip': False,\n",
       "  'cleanupIntervalSeconds': 300,\n",
       "  'maxConnections': 64,\n",
       "  'efConstruction': 128,\n",
       "  'ef': -1,\n",
       "  'dynamicEfMin': 100,\n",
       "  'dynamicEfMax': 500,\n",
       "  'dynamicEfFactor': 8,\n",
       "  'vectorCacheMaxObjects': 1000000000000,\n",
       "  'flatSearchCutoff': 40000,\n",
       "  'distance': 'cosine',\n",
       "  'pq': {'enabled': False,\n",
       "   'bitCompression': False,\n",
       "   'segments': 0,\n",
       "   'centroids': 256,\n",
       "   'trainingLimit': 100000,\n",
       "   'encoder': {'type': 'kmeans', 'distribution': 'log-normal'}}},\n",
       " 'vectorIndexType': 'hnsw',\n",
       " 'vectorizer': 'text2vec-transformers'}"
      ]
     },
     "execution_count": 17,
     "metadata": {},
     "output_type": "execute_result"
    }
   ],
   "source": [
    "db._client.schema.get(\"LangChain_138df2f1432f4c5c825cff1cf8d79ee9\")"
   ]
  },
  {
   "cell_type": "markdown",
   "metadata": {},
   "source": [
    "# Vectorstore and LLM test"
   ]
  },
  {
   "cell_type": "markdown",
   "metadata": {},
   "source": [
    "Creating the vectorstore to query information from the DB using the LLM"
   ]
  },
  {
   "cell_type": "code",
   "execution_count": 11,
   "metadata": {},
   "outputs": [],
   "source": [
    "vectorstore = Weaviate(client, \"LangChain_138df2f1432f4c5c825cff1cf8d79ee9\", \"text\")"
   ]
  },
  {
   "cell_type": "markdown",
   "metadata": {},
   "source": [
    "Init LLM"
   ]
  },
  {
   "cell_type": "code",
   "execution_count": 5,
   "metadata": {},
   "outputs": [
    {
     "name": "stderr",
     "output_type": "stream",
     "text": [
      "Loading checkpoint shards: 100%|██████████| 15/15 [00:18<00:00,  1.25s/it]\n",
      "Loading the tokenizer from the `special_tokens_map.json` and the `added_tokens.json` will be removed in `transformers 5`,  it is kept for forward compatibility, but it is recommended to update your `tokenizer_config.json` by uploading it again. You will see the new `added_tokens_decoder` attribute that will store the relevant information.\n"
     ]
    }
   ],
   "source": [
    "model_id = 'meta-llama/Llama-2-70b-chat-hf'\n",
    "device = f'cuda:{cuda.current_device()}' if cuda.is_available() else 'cpu'\n",
    "\n",
    "        # set quantization configuration to load large model with less GPU memory\n",
    "        # this requires the `bitsandbytes` library\n",
    "bnb_config = transformers.BitsAndBytesConfig(\n",
    "            load_in_4bit=True,\n",
    "            bnb_4bit_quant_type='nf4',\n",
    "            bnb_4bit_use_double_quant=True,\n",
    "            bnb_4bit_compute_dtype=bfloat16\n",
    "        )\n",
    "\n",
    "        # begin initializing HF items, need auth token for these\n",
    "model_config = transformers.AutoConfig.from_pretrained(\n",
    "            model_id\n",
    "        )\n",
    "\n",
    "model = transformers.AutoModelForCausalLM.from_pretrained(\n",
    "            model_id,\n",
    "            trust_remote_code=True,\n",
    "            config=model_config,\n",
    "            quantization_config=bnb_config,\n",
    "            device_map='auto'\n",
    "        )\n",
    "model.eval()\n",
    "\n",
    "tokenizer = transformers.AutoTokenizer.from_pretrained(model_id)\n",
    "generate_text = transformers.pipeline(\n",
    "            model=model, tokenizer=tokenizer,\n",
    "            return_full_text=True,  # langchain expects the full text\n",
    "            task='text-generation',\n",
    "            # we pass model parameters here too\n",
    "            #stopping_criteria=stopping_criteria,  # without this model rambles during chat\n",
    "            temperature=0.01,  # 'randomness' of outputs, 0.0 is the min and 1.0 the max\n",
    "            max_new_tokens=512,  # mex number of tokens to generate in the output\n",
    "            repetition_penalty=1.1  # without this output begins repeating\n",
    "        )\n",
    "llm = HuggingFacePipeline(pipeline=generate_text)"
   ]
  },
  {
   "cell_type": "markdown",
   "metadata": {},
   "source": [
    "Creating the chains: "
   ]
  },
  {
   "cell_type": "code",
   "execution_count": 12,
   "metadata": {},
   "outputs": [
    {
     "name": "stderr",
     "output_type": "stream",
     "text": [
      "/home/ubuntu/LLM-as-a-Service/llama-env/lib/python3.8/site-packages/langchain/chains/conversational_retrieval/base.py:295: UserWarning: `ChatVectorDBChain` is deprecated - please use `from langchain.chains import ConversationalRetrievalChain`\n",
      "  warnings.warn(\n"
     ]
    }
   ],
   "source": [
    "qa = ChatVectorDBChain.from_llm(llm, vectorstore)\n",
    "chat_history = []"
   ]
  },
  {
   "cell_type": "code",
   "execution_count": 15,
   "metadata": {},
   "outputs": [],
   "source": [
    "QA_document = RetrievalQA.from_chain_type(llm=llm, chain_type=\"stuff\", retriever=vectorstore.as_retriever())"
   ]
  },
  {
   "cell_type": "code",
   "execution_count": 16,
   "metadata": {},
   "outputs": [
    {
     "ename": "ValueError",
     "evalue": "Error during query: [{'locations': [{'column': 6, 'line': 1}], 'message': \"explorer: get class: vector search: object vector search at index langchain_138df2f1432f4c5c825cff1cf8d79ee9: shard langchain_138df2f1432f4c5c825cff1cf8d79ee9_jqTX3xTHTaox: vector search: knn search: distance between entrypoint and query node: vector lengths don't match: 768 vs 384\", 'path': ['Get', 'LangChain_138df2f1432f4c5c825cff1cf8d79ee9']}]",
     "output_type": "error",
     "traceback": [
      "\u001b[0;31m---------------------------------------------------------------------------\u001b[0m",
      "\u001b[0;31mValueError\u001b[0m                                Traceback (most recent call last)",
      "\u001b[1;32m/home/ubuntu/LLM-as-a-Service/weaviate_tests/weaviate_langchain.ipynb Cell 17\u001b[0m line \u001b[0;36m1\n\u001b[0;32m----> <a href='vscode-notebook-cell://ssh-remote%2B185.47.227.189/home/ubuntu/LLM-as-a-Service/weaviate_tests/weaviate_langchain.ipynb#X30sdnNjb2RlLXJlbW90ZQ%3D%3D?line=0'>1</a>\u001b[0m QA_document\u001b[39m.\u001b[39;49mrun(\u001b[39m\"\u001b[39;49m\u001b[39mwhat are the gri standards?\u001b[39;49m\u001b[39m\"\u001b[39;49m)\n",
      "File \u001b[0;32m~/LLM-as-a-Service/llama-env/lib/python3.8/site-packages/langchain/chains/base.py:290\u001b[0m, in \u001b[0;36mChain.run\u001b[0;34m(self, callbacks, tags, *args, **kwargs)\u001b[0m\n\u001b[1;32m    288\u001b[0m     \u001b[39mif\u001b[39;00m \u001b[39mlen\u001b[39m(args) \u001b[39m!=\u001b[39m \u001b[39m1\u001b[39m:\n\u001b[1;32m    289\u001b[0m         \u001b[39mraise\u001b[39;00m \u001b[39mValueError\u001b[39;00m(\u001b[39m\"\u001b[39m\u001b[39m`run` supports only one positional argument.\u001b[39m\u001b[39m\"\u001b[39m)\n\u001b[0;32m--> 290\u001b[0m     \u001b[39mreturn\u001b[39;00m \u001b[39mself\u001b[39;49m(args[\u001b[39m0\u001b[39;49m], callbacks\u001b[39m=\u001b[39;49mcallbacks, tags\u001b[39m=\u001b[39;49mtags)[_output_key]\n\u001b[1;32m    292\u001b[0m \u001b[39mif\u001b[39;00m kwargs \u001b[39mand\u001b[39;00m \u001b[39mnot\u001b[39;00m args:\n\u001b[1;32m    293\u001b[0m     \u001b[39mreturn\u001b[39;00m \u001b[39mself\u001b[39m(kwargs, callbacks\u001b[39m=\u001b[39mcallbacks, tags\u001b[39m=\u001b[39mtags)[_output_key]\n",
      "File \u001b[0;32m~/LLM-as-a-Service/llama-env/lib/python3.8/site-packages/langchain/chains/base.py:166\u001b[0m, in \u001b[0;36mChain.__call__\u001b[0;34m(self, inputs, return_only_outputs, callbacks, tags, include_run_info)\u001b[0m\n\u001b[1;32m    164\u001b[0m \u001b[39mexcept\u001b[39;00m (\u001b[39mKeyboardInterrupt\u001b[39;00m, \u001b[39mException\u001b[39;00m) \u001b[39mas\u001b[39;00m e:\n\u001b[1;32m    165\u001b[0m     run_manager\u001b[39m.\u001b[39mon_chain_error(e)\n\u001b[0;32m--> 166\u001b[0m     \u001b[39mraise\u001b[39;00m e\n\u001b[1;32m    167\u001b[0m run_manager\u001b[39m.\u001b[39mon_chain_end(outputs)\n\u001b[1;32m    168\u001b[0m final_outputs: Dict[\u001b[39mstr\u001b[39m, Any] \u001b[39m=\u001b[39m \u001b[39mself\u001b[39m\u001b[39m.\u001b[39mprep_outputs(\n\u001b[1;32m    169\u001b[0m     inputs, outputs, return_only_outputs\n\u001b[1;32m    170\u001b[0m )\n",
      "File \u001b[0;32m~/LLM-as-a-Service/llama-env/lib/python3.8/site-packages/langchain/chains/base.py:160\u001b[0m, in \u001b[0;36mChain.__call__\u001b[0;34m(self, inputs, return_only_outputs, callbacks, tags, include_run_info)\u001b[0m\n\u001b[1;32m    154\u001b[0m run_manager \u001b[39m=\u001b[39m callback_manager\u001b[39m.\u001b[39mon_chain_start(\n\u001b[1;32m    155\u001b[0m     dumpd(\u001b[39mself\u001b[39m),\n\u001b[1;32m    156\u001b[0m     inputs,\n\u001b[1;32m    157\u001b[0m )\n\u001b[1;32m    158\u001b[0m \u001b[39mtry\u001b[39;00m:\n\u001b[1;32m    159\u001b[0m     outputs \u001b[39m=\u001b[39m (\n\u001b[0;32m--> 160\u001b[0m         \u001b[39mself\u001b[39;49m\u001b[39m.\u001b[39;49m_call(inputs, run_manager\u001b[39m=\u001b[39;49mrun_manager)\n\u001b[1;32m    161\u001b[0m         \u001b[39mif\u001b[39;00m new_arg_supported\n\u001b[1;32m    162\u001b[0m         \u001b[39melse\u001b[39;00m \u001b[39mself\u001b[39m\u001b[39m.\u001b[39m_call(inputs)\n\u001b[1;32m    163\u001b[0m     )\n\u001b[1;32m    164\u001b[0m \u001b[39mexcept\u001b[39;00m (\u001b[39mKeyboardInterrupt\u001b[39;00m, \u001b[39mException\u001b[39;00m) \u001b[39mas\u001b[39;00m e:\n\u001b[1;32m    165\u001b[0m     run_manager\u001b[39m.\u001b[39mon_chain_error(e)\n",
      "File \u001b[0;32m~/LLM-as-a-Service/llama-env/lib/python3.8/site-packages/langchain/chains/retrieval_qa/base.py:128\u001b[0m, in \u001b[0;36mBaseRetrievalQA._call\u001b[0;34m(self, inputs, run_manager)\u001b[0m\n\u001b[1;32m    124\u001b[0m accepts_run_manager \u001b[39m=\u001b[39m (\n\u001b[1;32m    125\u001b[0m     \u001b[39m\"\u001b[39m\u001b[39mrun_manager\u001b[39m\u001b[39m\"\u001b[39m \u001b[39min\u001b[39;00m inspect\u001b[39m.\u001b[39msignature(\u001b[39mself\u001b[39m\u001b[39m.\u001b[39m_get_docs)\u001b[39m.\u001b[39mparameters\n\u001b[1;32m    126\u001b[0m )\n\u001b[1;32m    127\u001b[0m \u001b[39mif\u001b[39;00m accepts_run_manager:\n\u001b[0;32m--> 128\u001b[0m     docs \u001b[39m=\u001b[39m \u001b[39mself\u001b[39;49m\u001b[39m.\u001b[39;49m_get_docs(question, run_manager\u001b[39m=\u001b[39;49m_run_manager)\n\u001b[1;32m    129\u001b[0m \u001b[39melse\u001b[39;00m:\n\u001b[1;32m    130\u001b[0m     docs \u001b[39m=\u001b[39m \u001b[39mself\u001b[39m\u001b[39m.\u001b[39m_get_docs(question)  \u001b[39m# type: ignore[call-arg]\u001b[39;00m\n",
      "File \u001b[0;32m~/LLM-as-a-Service/llama-env/lib/python3.8/site-packages/langchain/chains/retrieval_qa/base.py:208\u001b[0m, in \u001b[0;36mRetrievalQA._get_docs\u001b[0;34m(self, question, run_manager)\u001b[0m\n\u001b[1;32m    201\u001b[0m \u001b[39mdef\u001b[39;00m \u001b[39m_get_docs\u001b[39m(\n\u001b[1;32m    202\u001b[0m     \u001b[39mself\u001b[39m,\n\u001b[1;32m    203\u001b[0m     question: \u001b[39mstr\u001b[39m,\n\u001b[1;32m    204\u001b[0m     \u001b[39m*\u001b[39m,\n\u001b[1;32m    205\u001b[0m     run_manager: CallbackManagerForChainRun,\n\u001b[1;32m    206\u001b[0m ) \u001b[39m-\u001b[39m\u001b[39m>\u001b[39m List[Document]:\n\u001b[1;32m    207\u001b[0m \u001b[39m    \u001b[39m\u001b[39m\"\"\"Get docs.\"\"\"\u001b[39;00m\n\u001b[0;32m--> 208\u001b[0m     \u001b[39mreturn\u001b[39;00m \u001b[39mself\u001b[39;49m\u001b[39m.\u001b[39;49mretriever\u001b[39m.\u001b[39;49mget_relevant_documents(\n\u001b[1;32m    209\u001b[0m         question, callbacks\u001b[39m=\u001b[39;49mrun_manager\u001b[39m.\u001b[39;49mget_child()\n\u001b[1;32m    210\u001b[0m     )\n",
      "File \u001b[0;32m~/LLM-as-a-Service/llama-env/lib/python3.8/site-packages/langchain/schema/retriever.py:139\u001b[0m, in \u001b[0;36mBaseRetriever.get_relevant_documents\u001b[0;34m(self, query, callbacks, **kwargs)\u001b[0m\n\u001b[1;32m    137\u001b[0m \u001b[39mexcept\u001b[39;00m \u001b[39mException\u001b[39;00m \u001b[39mas\u001b[39;00m e:\n\u001b[1;32m    138\u001b[0m     run_manager\u001b[39m.\u001b[39mon_retriever_error(e)\n\u001b[0;32m--> 139\u001b[0m     \u001b[39mraise\u001b[39;00m e\n\u001b[1;32m    140\u001b[0m \u001b[39melse\u001b[39;00m:\n\u001b[1;32m    141\u001b[0m     run_manager\u001b[39m.\u001b[39mon_retriever_end(\n\u001b[1;32m    142\u001b[0m         result,\n\u001b[1;32m    143\u001b[0m         \u001b[39m*\u001b[39m\u001b[39m*\u001b[39mkwargs,\n\u001b[1;32m    144\u001b[0m     )\n",
      "File \u001b[0;32m~/LLM-as-a-Service/llama-env/lib/python3.8/site-packages/langchain/schema/retriever.py:132\u001b[0m, in \u001b[0;36mBaseRetriever.get_relevant_documents\u001b[0;34m(self, query, callbacks, **kwargs)\u001b[0m\n\u001b[1;32m    130\u001b[0m _kwargs \u001b[39m=\u001b[39m kwargs \u001b[39mif\u001b[39;00m \u001b[39mself\u001b[39m\u001b[39m.\u001b[39m_expects_other_args \u001b[39melse\u001b[39;00m {}\n\u001b[1;32m    131\u001b[0m \u001b[39mif\u001b[39;00m \u001b[39mself\u001b[39m\u001b[39m.\u001b[39m_new_arg_supported:\n\u001b[0;32m--> 132\u001b[0m     result \u001b[39m=\u001b[39m \u001b[39mself\u001b[39;49m\u001b[39m.\u001b[39;49m_get_relevant_documents(\n\u001b[1;32m    133\u001b[0m         query, run_manager\u001b[39m=\u001b[39;49mrun_manager, \u001b[39m*\u001b[39;49m\u001b[39m*\u001b[39;49m_kwargs\n\u001b[1;32m    134\u001b[0m     )\n\u001b[1;32m    135\u001b[0m \u001b[39melse\u001b[39;00m:\n\u001b[1;32m    136\u001b[0m     result \u001b[39m=\u001b[39m \u001b[39mself\u001b[39m\u001b[39m.\u001b[39m_get_relevant_documents(query, \u001b[39m*\u001b[39m\u001b[39m*\u001b[39m_kwargs)\n",
      "File \u001b[0;32m~/LLM-as-a-Service/llama-env/lib/python3.8/site-packages/langchain/vectorstores/base.py:414\u001b[0m, in \u001b[0;36mVectorStoreRetriever._get_relevant_documents\u001b[0;34m(self, query, run_manager)\u001b[0m\n\u001b[1;32m    410\u001b[0m \u001b[39mdef\u001b[39;00m \u001b[39m_get_relevant_documents\u001b[39m(\n\u001b[1;32m    411\u001b[0m     \u001b[39mself\u001b[39m, query: \u001b[39mstr\u001b[39m, \u001b[39m*\u001b[39m, run_manager: Optional[CallbackManagerForRetrieverRun]\n\u001b[1;32m    412\u001b[0m ) \u001b[39m-\u001b[39m\u001b[39m>\u001b[39m List[Document]:\n\u001b[1;32m    413\u001b[0m     \u001b[39mif\u001b[39;00m \u001b[39mself\u001b[39m\u001b[39m.\u001b[39msearch_type \u001b[39m==\u001b[39m \u001b[39m\"\u001b[39m\u001b[39msimilarity\u001b[39m\u001b[39m\"\u001b[39m:\n\u001b[0;32m--> 414\u001b[0m         docs \u001b[39m=\u001b[39m \u001b[39mself\u001b[39;49m\u001b[39m.\u001b[39;49mvectorstore\u001b[39m.\u001b[39;49msimilarity_search(query, \u001b[39m*\u001b[39;49m\u001b[39m*\u001b[39;49m\u001b[39mself\u001b[39;49m\u001b[39m.\u001b[39;49msearch_kwargs)\n\u001b[1;32m    415\u001b[0m     \u001b[39melif\u001b[39;00m \u001b[39mself\u001b[39m\u001b[39m.\u001b[39msearch_type \u001b[39m==\u001b[39m \u001b[39m\"\u001b[39m\u001b[39msimilarity_score_threshold\u001b[39m\u001b[39m\"\u001b[39m:\n\u001b[1;32m    416\u001b[0m         docs_and_similarities \u001b[39m=\u001b[39m (\n\u001b[1;32m    417\u001b[0m             \u001b[39mself\u001b[39m\u001b[39m.\u001b[39mvectorstore\u001b[39m.\u001b[39msimilarity_search_with_relevance_scores(\n\u001b[1;32m    418\u001b[0m                 query, \u001b[39m*\u001b[39m\u001b[39m*\u001b[39m\u001b[39mself\u001b[39m\u001b[39m.\u001b[39msearch_kwargs\n\u001b[1;32m    419\u001b[0m             )\n\u001b[1;32m    420\u001b[0m         )\n",
      "File \u001b[0;32m~/LLM-as-a-Service/llama-env/lib/python3.8/site-packages/langchain/vectorstores/weaviate.py:174\u001b[0m, in \u001b[0;36mWeaviate.similarity_search\u001b[0;34m(self, query, k, **kwargs)\u001b[0m\n\u001b[1;32m    164\u001b[0m \u001b[39m\u001b[39m\u001b[39m\"\"\"Return docs most similar to query.\u001b[39;00m\n\u001b[1;32m    165\u001b[0m \n\u001b[1;32m    166\u001b[0m \u001b[39mArgs:\u001b[39;00m\n\u001b[0;32m   (...)\u001b[0m\n\u001b[1;32m    171\u001b[0m \u001b[39m    List of Documents most similar to the query.\u001b[39;00m\n\u001b[1;32m    172\u001b[0m \u001b[39m\"\"\"\u001b[39;00m\n\u001b[1;32m    173\u001b[0m \u001b[39mif\u001b[39;00m \u001b[39mself\u001b[39m\u001b[39m.\u001b[39m_by_text:\n\u001b[0;32m--> 174\u001b[0m     \u001b[39mreturn\u001b[39;00m \u001b[39mself\u001b[39;49m\u001b[39m.\u001b[39;49msimilarity_search_by_text(query, k, \u001b[39m*\u001b[39;49m\u001b[39m*\u001b[39;49mkwargs)\n\u001b[1;32m    175\u001b[0m \u001b[39melse\u001b[39;00m:\n\u001b[1;32m    176\u001b[0m     \u001b[39mif\u001b[39;00m \u001b[39mself\u001b[39m\u001b[39m.\u001b[39m_embedding \u001b[39mis\u001b[39;00m \u001b[39mNone\u001b[39;00m:\n",
      "File \u001b[0;32m~/LLM-as-a-Service/llama-env/lib/python3.8/site-packages/langchain/vectorstores/weaviate.py:206\u001b[0m, in \u001b[0;36mWeaviate.similarity_search_by_text\u001b[0;34m(self, query, k, **kwargs)\u001b[0m\n\u001b[1;32m    204\u001b[0m result \u001b[39m=\u001b[39m query_obj\u001b[39m.\u001b[39mwith_near_text(content)\u001b[39m.\u001b[39mwith_limit(k)\u001b[39m.\u001b[39mdo()\n\u001b[1;32m    205\u001b[0m \u001b[39mif\u001b[39;00m \u001b[39m\"\u001b[39m\u001b[39merrors\u001b[39m\u001b[39m\"\u001b[39m \u001b[39min\u001b[39;00m result:\n\u001b[0;32m--> 206\u001b[0m     \u001b[39mraise\u001b[39;00m \u001b[39mValueError\u001b[39;00m(\u001b[39mf\u001b[39m\u001b[39m\"\u001b[39m\u001b[39mError during query: \u001b[39m\u001b[39m{\u001b[39;00mresult[\u001b[39m'\u001b[39m\u001b[39merrors\u001b[39m\u001b[39m'\u001b[39m]\u001b[39m}\u001b[39;00m\u001b[39m\"\u001b[39m)\n\u001b[1;32m    207\u001b[0m docs \u001b[39m=\u001b[39m []\n\u001b[1;32m    208\u001b[0m \u001b[39mfor\u001b[39;00m res \u001b[39min\u001b[39;00m result[\u001b[39m\"\u001b[39m\u001b[39mdata\u001b[39m\u001b[39m\"\u001b[39m][\u001b[39m\"\u001b[39m\u001b[39mGet\u001b[39m\u001b[39m\"\u001b[39m][\u001b[39mself\u001b[39m\u001b[39m.\u001b[39m_index_name]:\n",
      "\u001b[0;31mValueError\u001b[0m: Error during query: [{'locations': [{'column': 6, 'line': 1}], 'message': \"explorer: get class: vector search: object vector search at index langchain_138df2f1432f4c5c825cff1cf8d79ee9: shard langchain_138df2f1432f4c5c825cff1cf8d79ee9_jqTX3xTHTaox: vector search: knn search: distance between entrypoint and query node: vector lengths don't match: 768 vs 384\", 'path': ['Get', 'LangChain_138df2f1432f4c5c825cff1cf8d79ee9']}]"
     ]
    }
   ],
   "source": [
    "QA_document.run(\"what are the gri standards?\")"
   ]
  },
  {
   "cell_type": "code",
   "execution_count": 13,
   "metadata": {},
   "outputs": [
    {
     "ename": "ValueError",
     "evalue": "Error during query: [{'locations': [{'column': 6, 'line': 1}], 'message': \"explorer: get class: vector search: object vector search at index langchain_138df2f1432f4c5c825cff1cf8d79ee9: shard langchain_138df2f1432f4c5c825cff1cf8d79ee9_jqTX3xTHTaox: vector search: knn search: distance between entrypoint and query node: vector lengths don't match: 768 vs 384\", 'path': ['Get', 'LangChain_138df2f1432f4c5c825cff1cf8d79ee9']}]",
     "output_type": "error",
     "traceback": [
      "\u001b[0;31m---------------------------------------------------------------------------\u001b[0m",
      "\u001b[0;31mValueError\u001b[0m                                Traceback (most recent call last)",
      "\u001b[1;32m/home/ubuntu/LLM-as-a-Service/weaviate_tests/weaviate_langchain.ipynb Cell 16\u001b[0m line \u001b[0;36m3\n\u001b[1;32m      <a href='vscode-notebook-cell://ssh-remote%2B185.47.227.189/home/ubuntu/LLM-as-a-Service/weaviate_tests/weaviate_langchain.ipynb#X25sdnNjb2RlLXJlbW90ZQ%3D%3D?line=0'>1</a>\u001b[0m query \u001b[39m=\u001b[39m \u001b[39m'\u001b[39m\u001b[39mWhat are the GRI standards?\u001b[39m\u001b[39m'\u001b[39m\n\u001b[0;32m----> <a href='vscode-notebook-cell://ssh-remote%2B185.47.227.189/home/ubuntu/LLM-as-a-Service/weaviate_tests/weaviate_langchain.ipynb#X25sdnNjb2RlLXJlbW90ZQ%3D%3D?line=2'>3</a>\u001b[0m result \u001b[39m=\u001b[39m qa({\u001b[39m'\u001b[39;49m\u001b[39mquestion\u001b[39;49m\u001b[39m'\u001b[39;49m:query,\u001b[39m'\u001b[39;49m\u001b[39mchat_history\u001b[39;49m\u001b[39m'\u001b[39;49m: chat_history})\n",
      "File \u001b[0;32m~/LLM-as-a-Service/llama-env/lib/python3.8/site-packages/langchain/chains/base.py:166\u001b[0m, in \u001b[0;36mChain.__call__\u001b[0;34m(self, inputs, return_only_outputs, callbacks, tags, include_run_info)\u001b[0m\n\u001b[1;32m    164\u001b[0m \u001b[39mexcept\u001b[39;00m (\u001b[39mKeyboardInterrupt\u001b[39;00m, \u001b[39mException\u001b[39;00m) \u001b[39mas\u001b[39;00m e:\n\u001b[1;32m    165\u001b[0m     run_manager\u001b[39m.\u001b[39mon_chain_error(e)\n\u001b[0;32m--> 166\u001b[0m     \u001b[39mraise\u001b[39;00m e\n\u001b[1;32m    167\u001b[0m run_manager\u001b[39m.\u001b[39mon_chain_end(outputs)\n\u001b[1;32m    168\u001b[0m final_outputs: Dict[\u001b[39mstr\u001b[39m, Any] \u001b[39m=\u001b[39m \u001b[39mself\u001b[39m\u001b[39m.\u001b[39mprep_outputs(\n\u001b[1;32m    169\u001b[0m     inputs, outputs, return_only_outputs\n\u001b[1;32m    170\u001b[0m )\n",
      "File \u001b[0;32m~/LLM-as-a-Service/llama-env/lib/python3.8/site-packages/langchain/chains/base.py:160\u001b[0m, in \u001b[0;36mChain.__call__\u001b[0;34m(self, inputs, return_only_outputs, callbacks, tags, include_run_info)\u001b[0m\n\u001b[1;32m    154\u001b[0m run_manager \u001b[39m=\u001b[39m callback_manager\u001b[39m.\u001b[39mon_chain_start(\n\u001b[1;32m    155\u001b[0m     dumpd(\u001b[39mself\u001b[39m),\n\u001b[1;32m    156\u001b[0m     inputs,\n\u001b[1;32m    157\u001b[0m )\n\u001b[1;32m    158\u001b[0m \u001b[39mtry\u001b[39;00m:\n\u001b[1;32m    159\u001b[0m     outputs \u001b[39m=\u001b[39m (\n\u001b[0;32m--> 160\u001b[0m         \u001b[39mself\u001b[39;49m\u001b[39m.\u001b[39;49m_call(inputs, run_manager\u001b[39m=\u001b[39;49mrun_manager)\n\u001b[1;32m    161\u001b[0m         \u001b[39mif\u001b[39;00m new_arg_supported\n\u001b[1;32m    162\u001b[0m         \u001b[39melse\u001b[39;00m \u001b[39mself\u001b[39m\u001b[39m.\u001b[39m_call(inputs)\n\u001b[1;32m    163\u001b[0m     )\n\u001b[1;32m    164\u001b[0m \u001b[39mexcept\u001b[39;00m (\u001b[39mKeyboardInterrupt\u001b[39;00m, \u001b[39mException\u001b[39;00m) \u001b[39mas\u001b[39;00m e:\n\u001b[1;32m    165\u001b[0m     run_manager\u001b[39m.\u001b[39mon_chain_error(e)\n",
      "File \u001b[0;32m~/LLM-as-a-Service/llama-env/lib/python3.8/site-packages/langchain/chains/conversational_retrieval/base.py:122\u001b[0m, in \u001b[0;36mBaseConversationalRetrievalChain._call\u001b[0;34m(self, inputs, run_manager)\u001b[0m\n\u001b[1;32m    118\u001b[0m accepts_run_manager \u001b[39m=\u001b[39m (\n\u001b[1;32m    119\u001b[0m     \u001b[39m\"\u001b[39m\u001b[39mrun_manager\u001b[39m\u001b[39m\"\u001b[39m \u001b[39min\u001b[39;00m inspect\u001b[39m.\u001b[39msignature(\u001b[39mself\u001b[39m\u001b[39m.\u001b[39m_get_docs)\u001b[39m.\u001b[39mparameters\n\u001b[1;32m    120\u001b[0m )\n\u001b[1;32m    121\u001b[0m \u001b[39mif\u001b[39;00m accepts_run_manager:\n\u001b[0;32m--> 122\u001b[0m     docs \u001b[39m=\u001b[39m \u001b[39mself\u001b[39;49m\u001b[39m.\u001b[39;49m_get_docs(new_question, inputs, run_manager\u001b[39m=\u001b[39;49m_run_manager)\n\u001b[1;32m    123\u001b[0m \u001b[39melse\u001b[39;00m:\n\u001b[1;32m    124\u001b[0m     docs \u001b[39m=\u001b[39m \u001b[39mself\u001b[39m\u001b[39m.\u001b[39m_get_docs(new_question, inputs)  \u001b[39m# type: ignore[call-arg]\u001b[39;00m\n",
      "File \u001b[0;32m~/LLM-as-a-Service/llama-env/lib/python3.8/site-packages/langchain/chains/conversational_retrieval/base.py:311\u001b[0m, in \u001b[0;36mChatVectorDBChain._get_docs\u001b[0;34m(self, question, inputs, run_manager)\u001b[0m\n\u001b[1;32m    309\u001b[0m vectordbkwargs \u001b[39m=\u001b[39m inputs\u001b[39m.\u001b[39mget(\u001b[39m\"\u001b[39m\u001b[39mvectordbkwargs\u001b[39m\u001b[39m\"\u001b[39m, {})\n\u001b[1;32m    310\u001b[0m full_kwargs \u001b[39m=\u001b[39m {\u001b[39m*\u001b[39m\u001b[39m*\u001b[39m\u001b[39mself\u001b[39m\u001b[39m.\u001b[39msearch_kwargs, \u001b[39m*\u001b[39m\u001b[39m*\u001b[39mvectordbkwargs}\n\u001b[0;32m--> 311\u001b[0m \u001b[39mreturn\u001b[39;00m \u001b[39mself\u001b[39;49m\u001b[39m.\u001b[39;49mvectorstore\u001b[39m.\u001b[39;49msimilarity_search(\n\u001b[1;32m    312\u001b[0m     question, k\u001b[39m=\u001b[39;49m\u001b[39mself\u001b[39;49m\u001b[39m.\u001b[39;49mtop_k_docs_for_context, \u001b[39m*\u001b[39;49m\u001b[39m*\u001b[39;49mfull_kwargs\n\u001b[1;32m    313\u001b[0m )\n",
      "File \u001b[0;32m~/LLM-as-a-Service/llama-env/lib/python3.8/site-packages/langchain/vectorstores/weaviate.py:174\u001b[0m, in \u001b[0;36mWeaviate.similarity_search\u001b[0;34m(self, query, k, **kwargs)\u001b[0m\n\u001b[1;32m    164\u001b[0m \u001b[39m\u001b[39m\u001b[39m\"\"\"Return docs most similar to query.\u001b[39;00m\n\u001b[1;32m    165\u001b[0m \n\u001b[1;32m    166\u001b[0m \u001b[39mArgs:\u001b[39;00m\n\u001b[0;32m   (...)\u001b[0m\n\u001b[1;32m    171\u001b[0m \u001b[39m    List of Documents most similar to the query.\u001b[39;00m\n\u001b[1;32m    172\u001b[0m \u001b[39m\"\"\"\u001b[39;00m\n\u001b[1;32m    173\u001b[0m \u001b[39mif\u001b[39;00m \u001b[39mself\u001b[39m\u001b[39m.\u001b[39m_by_text:\n\u001b[0;32m--> 174\u001b[0m     \u001b[39mreturn\u001b[39;00m \u001b[39mself\u001b[39;49m\u001b[39m.\u001b[39;49msimilarity_search_by_text(query, k, \u001b[39m*\u001b[39;49m\u001b[39m*\u001b[39;49mkwargs)\n\u001b[1;32m    175\u001b[0m \u001b[39melse\u001b[39;00m:\n\u001b[1;32m    176\u001b[0m     \u001b[39mif\u001b[39;00m \u001b[39mself\u001b[39m\u001b[39m.\u001b[39m_embedding \u001b[39mis\u001b[39;00m \u001b[39mNone\u001b[39;00m:\n",
      "File \u001b[0;32m~/LLM-as-a-Service/llama-env/lib/python3.8/site-packages/langchain/vectorstores/weaviate.py:206\u001b[0m, in \u001b[0;36mWeaviate.similarity_search_by_text\u001b[0;34m(self, query, k, **kwargs)\u001b[0m\n\u001b[1;32m    204\u001b[0m result \u001b[39m=\u001b[39m query_obj\u001b[39m.\u001b[39mwith_near_text(content)\u001b[39m.\u001b[39mwith_limit(k)\u001b[39m.\u001b[39mdo()\n\u001b[1;32m    205\u001b[0m \u001b[39mif\u001b[39;00m \u001b[39m\"\u001b[39m\u001b[39merrors\u001b[39m\u001b[39m\"\u001b[39m \u001b[39min\u001b[39;00m result:\n\u001b[0;32m--> 206\u001b[0m     \u001b[39mraise\u001b[39;00m \u001b[39mValueError\u001b[39;00m(\u001b[39mf\u001b[39m\u001b[39m\"\u001b[39m\u001b[39mError during query: \u001b[39m\u001b[39m{\u001b[39;00mresult[\u001b[39m'\u001b[39m\u001b[39merrors\u001b[39m\u001b[39m'\u001b[39m]\u001b[39m}\u001b[39;00m\u001b[39m\"\u001b[39m)\n\u001b[1;32m    207\u001b[0m docs \u001b[39m=\u001b[39m []\n\u001b[1;32m    208\u001b[0m \u001b[39mfor\u001b[39;00m res \u001b[39min\u001b[39;00m result[\u001b[39m\"\u001b[39m\u001b[39mdata\u001b[39m\u001b[39m\"\u001b[39m][\u001b[39m\"\u001b[39m\u001b[39mGet\u001b[39m\u001b[39m\"\u001b[39m][\u001b[39mself\u001b[39m\u001b[39m.\u001b[39m_index_name]:\n",
      "\u001b[0;31mValueError\u001b[0m: Error during query: [{'locations': [{'column': 6, 'line': 1}], 'message': \"explorer: get class: vector search: object vector search at index langchain_138df2f1432f4c5c825cff1cf8d79ee9: shard langchain_138df2f1432f4c5c825cff1cf8d79ee9_jqTX3xTHTaox: vector search: knn search: distance between entrypoint and query node: vector lengths don't match: 768 vs 384\", 'path': ['Get', 'LangChain_138df2f1432f4c5c825cff1cf8d79ee9']}]"
     ]
    }
   ],
   "source": [
    "query = 'What are the GRI standards?'\n",
    "\n",
    "result = qa({'question':query,'chat_history': chat_history})"
   ]
  },
  {
   "cell_type": "markdown",
   "metadata": {},
   "source": [
    "# Weaviate database management functions"
   ]
  },
  {
   "cell_type": "markdown",
   "metadata": {},
   "source": [
    "* Create Schema\n",
    "* Create Class\n",
    "* Add data with custom metadata, name, description etc...\n",
    "* Query data\n",
    "* Remove data\n",
    "* Update data"
   ]
  },
  {
   "cell_type": "code",
   "execution_count": null,
   "metadata": {},
   "outputs": [],
   "source": [
    "#Schema and class creation: \n",
    "\n",
    "class_name = \"\"\n",
    "vectorizer = \"\"\n"
   ]
  }
 ],
 "metadata": {
  "kernelspec": {
   "display_name": "weaviate_env",
   "language": "python",
   "name": "python3"
  },
  "language_info": {
   "codemirror_mode": {
    "name": "ipython",
    "version": 3
   },
   "file_extension": ".py",
   "mimetype": "text/x-python",
   "name": "python",
   "nbconvert_exporter": "python",
   "pygments_lexer": "ipython3",
   "version": "3.8.10"
  },
  "orig_nbformat": 4
 },
 "nbformat": 4,
 "nbformat_minor": 2
}
